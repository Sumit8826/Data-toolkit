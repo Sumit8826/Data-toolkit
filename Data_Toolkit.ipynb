{
  "nbformat": 4,
  "nbformat_minor": 0,
  "metadata": {
    "colab": {
      "provenance": []
    },
    "kernelspec": {
      "name": "python3",
      "display_name": "Python 3"
    },
    "language_info": {
      "name": "python"
    }
  },
  "cells": [
    {
      "cell_type": "markdown",
      "source": [
        "**Theory questions**"
      ],
      "metadata": {
        "id": "-rlyIMEq3lC8"
      }
    },
    {
      "cell_type": "markdown",
      "source": [
        "Q1. What is NumPy, and why is it widely used in Python?"
      ],
      "metadata": {
        "id": "xiQs709C4O4I"
      }
    },
    {
      "cell_type": "markdown",
      "source": [
        "Ans. NumPy (Numerical Python) is a powerful library for numerical computing in Python.\n",
        "Widely used for:\n",
        "\n",
        "* Handling large, multi-dimensional arrays efficiently.\n",
        "* Performing vectorized operations (faster than loops).\n",
        "* Providing built-in mathematical functions for linear algebra, statistics, and more."
      ],
      "metadata": {
        "id": "HWVqj0IX4Rsk"
      }
    },
    {
      "cell_type": "markdown",
      "source": [
        "Q2. How does broadcasting work in NumPy?"
      ],
      "metadata": {
        "id": "YBVlcDjn4nIc"
      }
    },
    {
      "cell_type": "markdown",
      "source": [
        "Ans. Broadcasting allows element-wise operations on arrays of different shapes without explicitly replicating data.\n",
        "\n",
        "#import numpy as np\n",
        "* A = np.array([[1, 2, 3], [4, 5, 6]])\n",
        "* B = np.array([10, 20, 30])         \n",
        "* C = A + B  \n",
        "print(C)\n",
        "# Output:\n",
        "[[11 22 33]\n",
        " [14 25 36]]"
      ],
      "metadata": {
        "id": "MI11wYE04r4C"
      }
    },
    {
      "cell_type": "markdown",
      "source": [
        "Q3. What is a Pandas DataFrame?"
      ],
      "metadata": {
        "id": "x0bngdhj5VcY"
      }
    },
    {
      "cell_type": "markdown",
      "source": [
        "Ans. A DataFrame is a tabular data structure in Pandas, similar to an Excel sheet or SQL table.\n",
        "\n",
        "Features:\n",
        "\n",
        "Supports labeled rows (index) & columns (columns).\n",
        "Handles missing data.\n",
        "Allows data filtering, sorting, aggregation, and transformation.\n",
        "\n",
        "#import pandas as pd\n",
        "* df = pd.DataFrame({'Name': ['Alice', 'Bob'], 'Age': [25, 30]})\n",
        "* print(df)\n",
        "\n",
        "#Output:\n",
        "*   Name      Age\n",
        "* 0  Alice    25\n",
        "* 1    Bob    30"
      ],
      "metadata": {
        "id": "hVpCesJ45c3W"
      }
    },
    {
      "cell_type": "markdown",
      "source": [
        "Q4.  Explain the use of the groupby() method in Pandas."
      ],
      "metadata": {
        "id": "ZL9KHeaI6D_H"
      }
    },
    {
      "cell_type": "markdown",
      "source": [
        "Ans. groupby() is used to group data and perform aggregation functions like sum, mean, count, etc.\n",
        "\n",
        "# df.groupby('Category')['Sales'].sum()\n",
        "\n",
        "Groups the dataset by \"Category\" and sums the \"Sales\" column."
      ],
      "metadata": {
        "id": "VSsbA2rm6OLv"
      }
    },
    {
      "cell_type": "markdown",
      "source": [
        "Q5. Why is Seaborn preferred for statistical visualizations?"
      ],
      "metadata": {
        "id": "EufnPPgM6dlw"
      }
    },
    {
      "cell_type": "markdown",
      "source": [
        "Ans. Advantages of Seaborn:\n",
        "\n",
        "Built-in themes for beautiful plots.\n",
        "Easier to create heatmaps, pairplots, and categorical plots.\n",
        "Works well with Pandas DataFrames.\n",
        "#import seaborn as sns\n",
        "#sns.boxplot(x=\"category\", y=\"value\", data=df)\n",
        "\n",
        "Creates a boxplot with minimal code."
      ],
      "metadata": {
        "id": "Rp2K9qgZ6iZr"
      }
    },
    {
      "cell_type": "markdown",
      "source": [
        "Q6.  What are the differences between NumPy arrays and Python lists?"
      ],
      "metadata": {
        "id": "lc_D7rfu61gS"
      }
    },
    {
      "cell_type": "markdown",
      "source": [
        "Ans. ### **Differences Between NumPy Arrays and Python Lists**  \n",
        "\n",
        "NumPy arrays and Python lists may seem similar, but **NumPy arrays are much faster and more efficient** for numerical computations.  \n",
        "\n",
        "---\n",
        "\n",
        "### **Key Differences:**\n",
        "| Feature           | NumPy Arrays                 | Python Lists              |\n",
        "|------------------|----------------------------|---------------------------|\n",
        "| **Speed**       | Faster (C-based implementation) | Slower (pure Python) |\n",
        "| **Memory Usage** | Uses less memory (efficient storage) | Uses more memory (each element has metadata) |\n",
        "| **Operations**   | Supports vectorized operations | Requires explicit loops |\n",
        "| **Type Safety**  | Homogeneous (all elements must be the same type) | Can store mixed data types |\n",
        "| **Functionality** | Supports advanced mathematical operations (e.g., `np.dot()`, `np.linalg.inv()`) | No built-in mathematical functions |\n",
        "| **Dimensionality** | Supports multi-dimensional arrays | Only 1D (nested lists needed for more) |\n",
        "| **Indexing**     | More powerful, supports multi-dimensional slicing | Basic indexing |\n",
        "\n"
      ],
      "metadata": {
        "id": "uAvliD7r8Skz"
      }
    },
    {
      "cell_type": "markdown",
      "source": [
        "Q7. What is a heatmap, and when should it be used?"
      ],
      "metadata": {
        "id": "AfOv72cX9NM0"
      }
    },
    {
      "cell_type": "markdown",
      "source": [
        "Ans. A heatmap is a graphical representation of data where values are represented as colors.\n",
        "# Used for:\n",
        "\n",
        "* Correlation matrices (relationships between variables).\n",
        "* Frequency distributions."
      ],
      "metadata": {
        "id": "yjuwwbtB9SCF"
      }
    },
    {
      "cell_type": "markdown",
      "source": [
        "Q8.  What does the term “vectorized operation” mean in NumPy?"
      ],
      "metadata": {
        "id": "wzTxa49F9grw"
      }
    },
    {
      "cell_type": "markdown",
      "source": [
        "Ans. A vectorized operation applies element-wise operations on an entire array without loops.\n",
        "* Faster & more efficient than traditional loops."
      ],
      "metadata": {
        "id": "k7eQdaFH9odQ"
      }
    },
    {
      "cell_type": "markdown",
      "source": [
        "Q9. How does Matplotlib differ from Plotly?"
      ],
      "metadata": {
        "id": "5891KCdu9uy1"
      }
    },
    {
      "cell_type": "markdown",
      "source": [
        "Ans.  **Differences Between Matplotlib and Plotly**  \n",
        "\n",
        "**Matplotlib** and **Plotly** are two popular Python libraries for data visualization.  \n",
        "However, **Matplotlib is best for static plots**, while **Plotly is best for interactive visualizations**.\n",
        "\n",
        "---\n",
        "\n",
        "### **Key Differences:**\n",
        "| Feature           | Matplotlib 📊 | Plotly 🌍 |\n",
        "|------------------|-------------|----------|\n",
        "| **Interactivity** | Static plots (requires extra code for interactivity) | Interactive by default (zoom, hover, etc.) |\n",
        "| **Ease of Use**  | Requires more customization | Simple and intuitive |\n",
        "| **Best For**     | Scientific plots, reports, publications | Dashboards, web applications |\n",
        "| **Customization** | Highly customizable but manual | Built-in themes for styling |\n",
        "| **Performance**  | Faster for small datasets | Better for large datasets |\n",
        "| **3D Support**   | Requires `mpl_toolkits.mplot3d` | Native 3D support |\n",
        "| **Integration**  | Works well with Seaborn, Pandas | Integrates well with web frameworks (Dash, Flask) |"
      ],
      "metadata": {
        "id": "bKcaLTqF-Lin"
      }
    },
    {
      "cell_type": "markdown",
      "source": [
        "Q10. What is the significance of hierarchical indexing in Pandas?"
      ],
      "metadata": {
        "id": "8g-W9CmW-RrV"
      }
    },
    {
      "cell_type": "markdown",
      "source": [
        "Ans. Hierarchical Indexing allows multiple levels of row labels.\n",
        "* Useful for:\n",
        "\n",
        "* Multi-level grouping (groupby()).\n",
        "* Analyzing large datasets with multiple categories."
      ],
      "metadata": {
        "id": "Fb7BY8TY-dk9"
      }
    },
    {
      "cell_type": "markdown",
      "source": [
        "Q11. What is the role of Seaborn’s pairplot() function?"
      ],
      "metadata": {
        "id": "7yRsYUay-i5m"
      }
    },
    {
      "cell_type": "markdown",
      "source": [
        "Ans.  **Role of Seaborn’s `pairplot()` Function**  \n",
        "\n",
        " **Seaborn’s `pairplot()` is used to create scatter plots for all numerical variable combinations in a dataset.**  \n",
        " **It helps in Exploratory Data Analysis (EDA)** by visualizing relationships between multiple features.\n",
        "\n",
        "---\n",
        "\n",
        "### **Key Features of `pairplot()`**\n",
        "🔹 Plots **pairwise relationships** between numerical columns.  \n",
        "🔹 **Diagonals** show **histograms or density plots** for individual features.  \n",
        "🔹 Supports **color coding (`hue`)** for categorical variables.  \n"
      ],
      "metadata": {
        "id": "fid0erUq-oj8"
      }
    },
    {
      "cell_type": "markdown",
      "source": [
        "Q12. What is the purpose of the describe() function in Pandas?"
      ],
      "metadata": {
        "id": "XPWQ_OKb_HEm"
      }
    },
    {
      "cell_type": "markdown",
      "source": [
        "Ans. ### **Purpose of the `describe()` Function in Pandas**  \n",
        "\n",
        "✅ **`describe()` is used to generate summary statistics of numerical or categorical columns in a Pandas DataFrame.**  \n",
        "✅ It helps in **data exploration** by providing key insights into the dataset.\n",
        "\n",
        "---\n",
        "\n",
        "### **Basic Usage**\n",
        "```python\n",
        "import pandas as pd\n",
        "\n",
        "# Sample DataFrame\n",
        "data = {\n",
        "    \"Age\": [25, 30, 35, 40, 29, 31, 50],\n",
        "    \"Salary\": [50000, 60000, 75000, 80000, 52000, 58000, 90000]\n",
        "}\n",
        "\n",
        "df = pd.DataFrame(data)\n",
        "\n",
        "# Generate summary statistics\n",
        "print(df.describe())\n",
        "```\n",
        "\n",
        "---\n",
        "\n",
        "### **📌 Output (For Numerical Columns)**\n",
        "```\n",
        "             Age        Salary\n",
        "count   7.000000      7.000000\n",
        "mean   34.285714  66428.571429\n",
        "std     8.717798  14791.879479\n",
        "min    25.000000  50000.000000\n",
        "25%    29.000000  56000.000000\n",
        "50%    31.000000  60000.000000\n",
        "75%    37.500000  77500.000000\n",
        "max    50.000000  90000.000000\n",
        "```\n",
        "\n",
        "🔹 **Key Statistics Explained:**\n",
        "| Metric | Meaning |\n",
        "|--------|---------|\n",
        "| **count** | Number of non-null values |\n",
        "| **mean**  | Average of the column |\n",
        "| **std**   | Standard deviation (spread of values) |\n",
        "| **min**   | Minimum value |\n",
        "| **25%**   | First quartile (25th percentile) |\n",
        "| **50%**   | Median (50th percentile) |\n",
        "| **75%**   | Third quartile (75th percentile) |\n",
        "| **max**   | Maximum value |\n",
        "\n",
        "---\n",
        "\n",
        "### **Using `describe()` for Categorical Data**\n",
        "If applied to **categorical columns**, use `include=\"object\"`:\n",
        "```python\n",
        "df = pd.DataFrame({\"Gender\": [\"Male\", \"Female\", \"Male\", \"Female\", \"Male\"]})\n",
        "print(df.describe(include=\"object\"))\n",
        "```\n",
        "📌 **Output:**\n",
        "```\n",
        "       Gender\n",
        "count       5\n",
        "unique      2\n",
        "top      Male\n",
        "freq        3\n",
        "```\n",
        "🔹 **Shows counts, unique values, most frequent value (`top`), and its frequency (`freq`).**\n",
        "\n",
        "---\n",
        "\n",
        "### **Why Use `describe()`?**\n",
        "✅ **Quickly summarizes numerical columns**.  \n",
        "✅ **Identifies outliers** (high `std` values).  \n",
        "✅ **Helps in feature selection for Machine Learning**."
      ],
      "metadata": {
        "id": "w_988w8o_L3m"
      }
    },
    {
      "cell_type": "markdown",
      "source": [
        "Q13. Why is handling missing data important in Pandas?"
      ],
      "metadata": {
        "id": "81sgC0iI_m4S"
      }
    },
    {
      "cell_type": "markdown",
      "source": [
        "Ans. ### **Why is Handling Missing Data Important in Pandas?**  \n",
        "\n",
        "✅ **Handling missing data is crucial for maintaining data quality and preventing errors in analysis or machine learning models.**  \n",
        "✅ **Ignoring missing data can lead to incorrect insights, biased results, and failed computations.**\n",
        "\n",
        "---\n",
        "\n",
        "### **📌 Key Reasons for Handling Missing Data**\n",
        "| Reason | Explanation |\n",
        "|--------|------------|\n",
        "| **Prevents Errors** | Some functions may fail if missing values (`NaN`) are present. |\n",
        "| **Avoids Bias** | Missing data can skew statistical results. |\n",
        "| **Improves Model Performance** | Machine learning models do not work well with missing values. |\n",
        "| **Ensures Data Integrity** | Complete data leads to better decision-making. |\n",
        "\n",
        "---\n",
        "\n",
        "### **📌 Example Dataset with Missing Data**\n",
        "```python\n",
        "import pandas as pd\n",
        "import numpy as np\n",
        "\n",
        "# Create a DataFrame with missing values\n",
        "data = {\n",
        "    \"Name\": [\"Alice\", \"Bob\", \"Charlie\", np.nan, \"Eve\"],\n",
        "    \"Age\": [25, np.nan, 30, 35, 40],\n",
        "    \"Salary\": [50000, 60000, np.nan, 80000, 75000]\n",
        "}\n",
        "\n",
        "df = pd.DataFrame(data)\n",
        "print(df)\n",
        "```\n",
        "📌 **Output:**\n",
        "```\n",
        "      Name   Age   Salary\n",
        "0   Alice  25.0  50000.0\n",
        "1     Bob   NaN  60000.0\n",
        "2  Charlie 30.0      NaN\n",
        "3     NaN  35.0  80000.0\n",
        "4     Eve  40.0  75000.0\n",
        "```\n",
        "---\n",
        "\n",
        "### **📌 Methods to Handle Missing Data in Pandas**\n",
        "#### ✅ **1. Detecting Missing Values**\n",
        "```python\n",
        "print(df.isnull())  # Returns a boolean mask\n",
        "print(df.isnull().sum())  # Count missing values per column\n",
        "```\n",
        "📌 **Output:**\n",
        "```\n",
        "    Name    Age  Salary\n",
        "0  False  False  False\n",
        "1  False   True  False\n",
        "2  False  False   True\n",
        "3   True  False  False\n",
        "4  False  False  False\n",
        "\n",
        "Name      1\n",
        "Age       1\n",
        "Salary    1\n",
        "dtype: int64\n",
        "```\n",
        "\n",
        "---\n",
        "\n",
        "#### ✅ **2. Removing Missing Values (`dropna()`)**\n",
        "```python\n",
        "df_cleaned = df.dropna()\n",
        "print(df_cleaned)\n",
        "```\n",
        "📌 **Removes rows with any `NaN` values.**\n",
        "\n",
        "---\n",
        "\n",
        "#### ✅ **3. Filling Missing Values (`fillna()`)**\n",
        "```python\n",
        "df_filled = df.fillna({\"Age\": df[\"Age\"].mean(), \"Salary\": df[\"Salary\"].median()})\n",
        "print(df_filled)\n",
        "```\n",
        "📌 **Replaces missing values with the column mean (for `Age`) and median (for `Salary`).**\n",
        "\n",
        "---\n",
        "\n",
        "### **📌 Best Practices for Handling Missing Data**\n",
        "✔ **Understand why data is missing** (human error, system issue, etc.).  \n",
        "✔ **Use appropriate imputation techniques** (mean, median, mode).  \n",
        "✔ **Use domain knowledge** to decide whether to remove or fill missing values.  \n",
        "✔ **Check for patterns in missing data** (random or systematic?).  \n",
        "\n",
        "---\n"
      ],
      "metadata": {
        "id": "xEDAhs_7_rYM"
      }
    },
    {
      "cell_type": "markdown",
      "source": [
        "Q14. What are the benefits of using Plotly for data visualization?"
      ],
      "metadata": {
        "id": "PEqQ0GS-_6-2"
      }
    },
    {
      "cell_type": "markdown",
      "source": [
        "Ans. ### **Benefits of Using Plotly for Data Visualization**  \n",
        "\n",
        "✅ **Plotly is a powerful Python library for creating interactive, web-based visualizations.**  \n",
        "✅ **It is widely used for dashboards, business analytics, and data exploration.**\n",
        "\n",
        "---\n",
        "\n",
        "### **📌 Key Benefits of Plotly**\n",
        "| Benefit            | Explanation |\n",
        "|--------------------|------------|\n",
        "| **1. Interactivity**  | Allows zooming, panning, tooltips, and hover effects. |\n",
        "| **2. Web Integration** | Works well with web applications (Dash, Flask). |\n",
        "| **3. Beautiful Visuals** | Comes with built-in themes and animations. |\n",
        "| **4. Easy to Use** | Simple syntax for creating complex charts. |\n",
        "| **5. Wide Range of Charts** | Supports scatter, bar, heatmaps, 3D plots, etc. |\n",
        "| **6. Handles Large Data Efficiently** | Can visualize large datasets without performance issues. |\n",
        "\n",
        "---\n",
        "\n",
        "### **📌 Example 1: Creating an Interactive Scatter Plot**\n",
        "```python\n",
        "import plotly.express as px\n",
        "import pandas as pd\n",
        "\n",
        "# Sample Data\n",
        "df = pd.DataFrame({\"x\": [1, 2, 3, 4, 5], \"y\": [10, 15, 7, 20, 25]})\n",
        "\n",
        "# Create an interactive scatter plot\n",
        "fig = px.scatter(df, x=\"x\", y=\"y\", title=\"Interactive Scatter Plot\")\n",
        "fig.show()\n",
        "```\n",
        "🔹 **Output:** A **fully interactive** scatter plot with zoom and hover features.\n",
        "\n",
        "---\n",
        "\n",
        "### **📌 Example 2: Creating a 3D Scatter Plot**\n",
        "```python\n",
        "import plotly.express as px\n",
        "import numpy as np\n",
        "import pandas as pd\n",
        "\n",
        "df = pd.DataFrame({\n",
        "    \"x\": np.random.rand(10),\n",
        "    \"y\": np.random.rand(10),\n",
        "    \"z\": np.random.rand(10)\n",
        "})\n",
        "\n",
        "fig = px.scatter_3d(df, x=\"x\", y=\"y\", z=\"z\", title=\"3D Scatter Plot\")\n",
        "fig.show()\n",
        "```\n",
        "📌 **Matplotlib requires extra setup for 3D, but Plotly makes it easy.**\n",
        "\n",
        "---\n",
        "\n",
        "### **📌 Example 3: Creating an Interactive Bar Chart**\n",
        "```python\n",
        "import plotly.express as px\n",
        "\n",
        "df = px.data.gapminder().query(\"year == 2007\")\n",
        "fig = px.bar(df, x=\"continent\", y=\"pop\", color=\"continent\", title=\"Population by Continent\")\n",
        "fig.show()\n",
        "```\n",
        "📌 **Bar charts are color-coded and interactive by default.*"
      ],
      "metadata": {
        "id": "hwORtx3_AI0f"
      }
    },
    {
      "cell_type": "markdown",
      "source": [
        "Q15. How does NumPy handle multidimensional arrays?"
      ],
      "metadata": {
        "id": "_4d-4yqLAcoR"
      }
    },
    {
      "cell_type": "markdown",
      "source": [
        "Ans. ### **How Does NumPy Handle Multidimensional Arrays?**  \n",
        "\n",
        "✅ **NumPy uses `ndarray` (N-dimensional array) to handle multidimensional data efficiently.**  \n",
        "✅ It supports **multi-dimensional slicing, reshaping, broadcasting, and vectorized operations** for efficient computations.  \n",
        "\n",
        "---\n",
        "\n",
        "### **📌 Creating a Multidimensional NumPy Array**\n",
        "```python\n",
        "import numpy as np\n",
        "\n",
        "# Creating a 2D array (Matrix)\n",
        "A = np.array([[1, 2, 3], [4, 5, 6]])\n",
        "print(A)\n",
        "```\n",
        "📌 **Output:**\n",
        "```\n",
        "[[1 2 3]\n",
        " [4 5 6]]\n",
        "```\n",
        "🔹 **Shape:** `(2,3)` → 2 rows, 3 columns  \n",
        "🔹 **Type:** `numpy.ndarray`\n",
        "\n",
        "---\n",
        "\n",
        "### **📌 Checking the Shape and Dimensions**\n",
        "```python\n",
        "print(A.shape)  # (2, 3) → Rows × Columns\n",
        "print(A.ndim)   # 2 → Number of dimensions\n",
        "```\n",
        "\n",
        "---\n",
        "\n",
        "### **📌 Handling 3D Arrays (Tensors)**\n",
        "```python\n",
        "B = np.array([[[1, 2], [3, 4]], [[5, 6], [7, 8]]])  # 3D array\n",
        "print(B.shape)  # (2, 2, 2) → Two 2x2 matrices\n",
        "print(B.ndim)   # 3 (Three-dimensional array)\n",
        "```\n",
        "\n",
        "---\n",
        "\n",
        "### **📌 Accessing Elements in Multidimensional Arrays**\n",
        "```python\n",
        "print(A[0, 1])  # Access row 0, column 1 → Output: 2\n",
        "print(B[1, 0, 1])  # Access second block, first row, second column → Output: 6\n",
        "```\n",
        "\n",
        "---\n",
        "\n",
        "### **📌 Slicing Multidimensional Arrays**\n",
        "```python\n",
        "print(A[:, 1])  # Extract second column: [2 5]\n",
        "print(A[0, :])  # Extract first row: [1 2 3]\n",
        "```\n",
        "\n",
        "---\n",
        "\n",
        "### **📌 Reshaping Arrays**\n",
        "```python\n",
        "C = np.array([1, 2, 3, 4, 5, 6])\n",
        "C = C.reshape(2, 3)  # Converts 1D array to 2D (2 rows, 3 columns)\n",
        "print(C)\n",
        "```\n",
        "📌 **Output:**\n",
        "```\n",
        "[[1 2 3]\n",
        " [4 5 6]]\n",
        "```\n",
        "\n",
        "---\n",
        "\n",
        "### **📌 Broadcasting in Multidimensional Arrays**\n",
        "```python\n",
        "A = np.array([[1, 2, 3], [4, 5, 6]])\n",
        "B = np.array([10, 20, 30])  # 1D array\n",
        "C = A + B  # Broadcasting: B is expanded to match A's shape\n",
        "print(C)\n",
        "```\n",
        "📌 **Output:**\n",
        "```\n",
        "[[11 22 33]\n",
        " [14 25 36]]\n",
        "```\n"
      ],
      "metadata": {
        "id": "Z467FHEJAniC"
      }
    },
    {
      "cell_type": "markdown",
      "source": [
        "Q16. What is the role of Bokeh in data visualization?"
      ],
      "metadata": {
        "id": "L-dTW8hnA6kS"
      }
    },
    {
      "cell_type": "markdown",
      "source": [
        "Ans. ### **Role of Bokeh in Data Visualization**  \n",
        "\n",
        "✅ **Bokeh is a Python library used for creating interactive and scalable visualizations, especially for web applications.**  \n",
        "✅ It provides **high-performance, interactive, and beautiful plots** that can be easily integrated into web frameworks like **Flask** and **Django**.  \n",
        "\n",
        "---\n",
        "\n",
        "### **📌 Key Features of Bokeh**\n",
        "| Feature               | Explanation |\n",
        "|----------------------|-------------|\n",
        "| **1. Interactivity**  | Supports zooming, panning, tooltips, and real-time updates. |\n",
        "| **2. Web Integration** | Generates HTML & JavaScript, making it ideal for dashboards. |\n",
        "| **3. High Performance** | Handles large datasets efficiently. |\n",
        "| **4. Supports Various Charts** | Line, bar, scatter, heatmaps, and even real-time streaming. |\n",
        "| **5. Customizable** | Provides detailed control over visuals. |\n",
        "\n",
        "---\n",
        "\n",
        "### **📌 Example 1: Creating a Simple Line Plot**\n",
        "```python\n",
        "from bokeh.plotting import figure, show\n",
        "\n",
        "# Create a figure\n",
        "p = figure(title=\"Bokeh Line Plot\", x_axis_label=\"X\", y_axis_label=\"Y\")\n",
        "\n",
        "# Add a line to the figure\n",
        "p.line([1, 2, 3, 4, 5], [10, 20, 25, 30, 40], line_width=2)\n",
        "\n",
        "# Show the plot\n",
        "show(p)\n",
        "```\n",
        "📌 **Output:** A **fully interactive** line plot with zoom and hover features.\n",
        "\n",
        "---\n",
        "\n",
        "### **📌 Example 2: Creating an Interactive Bar Chart**\n",
        "```python\n",
        "from bokeh.plotting import figure, show\n",
        "from bokeh.io import output_file\n",
        "\n",
        "# Save output as an HTML file\n",
        "output_file(\"bar_chart.html\")\n",
        "\n",
        "# Data\n",
        "categories = [\"A\", \"B\", \"C\", \"D\"]\n",
        "values = [10, 20, 30, 40]\n",
        "\n",
        "# Create a bar chart\n",
        "p = figure(x_range=categories, title=\"Bokeh Bar Chart\", plot_height=350)\n",
        "p.vbar(x=categories, top=values, width=0.5)\n",
        "\n",
        "# Show the chart\n",
        "show(p)\n",
        "```\n",
        "📌 **Output:** A **clickable, zoomable** bar chart.\n",
        "\n",
        "---\n",
        "\n",
        "### **📌 When to Use Bokeh?**\n",
        "✔ **For interactive and web-based visualizations.**  \n",
        "✔ **For large datasets requiring real-time updates.**  \n",
        "✔ **For dashboards and business analytics tools.**  \n"
      ],
      "metadata": {
        "id": "A2hDtYihA-gB"
      }
    },
    {
      "cell_type": "markdown",
      "source": [
        "Q17.  Explain the difference between apply() and map() in Pandas."
      ],
      "metadata": {
        "id": "s2YI8u_3BKkA"
      }
    },
    {
      "cell_type": "markdown",
      "source": [
        "Ans. ### **Difference Between `apply()` and `map()` in Pandas**  \n",
        "\n",
        "✅ **Both `apply()` and `map()` are used to apply functions to Pandas Series or DataFrames, but they work differently.**  \n",
        "\n",
        "---\n",
        "\n",
        "### **📌 Key Differences**\n",
        "| Feature          | `apply()` | `map()` |\n",
        "|-----------------|----------|--------|\n",
        "| **Works On**     | DataFrames & Series | Only Series |\n",
        "| **Function Type** | Works with **custom functions** (`lambda`, built-ins, `np.mean`, etc.) | Works with **dictionaries, functions, and Series** |\n",
        "| **Element-wise?** | Can apply functions **row-wise or column-wise** | Only works **element-wise** |\n",
        "| **Use Case** | Complex operations on rows/columns | Simple transformations |\n",
        "\n",
        "---\n",
        "\n",
        "### **✅ Example 1: Using `map()` (Works on a Series Only)**\n",
        "```python\n",
        "import pandas as pd\n",
        "\n",
        "# Sample Series\n",
        "s = pd.Series([1, 2, 3, 4, 5])\n",
        "\n",
        "# Apply a function using map()\n",
        "print(s.map(lambda x: x * 2))\n",
        "```\n",
        "📌 **Output:**\n",
        "```\n",
        "0     2\n",
        "1     4\n",
        "2     6\n",
        "3     8\n",
        "4    10\n",
        "dtype: int64\n",
        "```\n",
        "🔹 **`map()` is useful for element-wise transformations.**\n",
        "\n",
        "---\n",
        "\n",
        "### **✅ Example 2: Using `apply()` on a Series**\n",
        "```python\n",
        "print(s.apply(lambda x: x ** 2))\n",
        "```\n",
        "📌 **Output:**\n",
        "```\n",
        "0     1\n",
        "1     4\n",
        "2     9\n",
        "3    16\n",
        "4    25\n",
        "dtype: int64\n",
        "```\n",
        "🔹 Works **similarly** to `map()` for a **Series**, but `apply()` is more versatile.\n",
        "\n",
        "---\n",
        "\n",
        "### **✅ Example 3: Using `apply()` on a DataFrame**\n",
        "```python\n",
        "df = pd.DataFrame({\"A\": [1, 2, 3], \"B\": [4, 5, 6]})\n",
        "\n",
        "# Apply function to each column\n",
        "print(df.apply(lambda x: x * 2))\n",
        "```\n",
        "📌 **Output:**\n",
        "```\n",
        "   A   B\n",
        "0  2   8\n",
        "1  4  10\n",
        "2  6  12\n",
        "```\n",
        "🔹 **`apply()` is used for row-wise (`axis=1`) or column-wise (`axis=0`) operations.**\n",
        "\n",
        "---\n",
        "\n",
        "### **✅ Example 4: Using `map()` with a Dictionary**\n",
        "```python\n",
        "s = pd.Series([\"A\", \"B\", \"C\"])\n",
        "mapping = {\"A\": 1, \"B\": 2, \"C\": 3}\n",
        "\n",
        "print(s.map(mapping))\n",
        "```\n",
        "📌 **Output:**\n",
        "```\n",
        "0    1\n",
        "1    2\n",
        "2    3\n",
        "dtype: int64\n",
        "```\n",
        "🔹 `map()` can replace values using a dictionary.\n",
        "\n",
        "---\n",
        "\n",
        "### **📌 Summary: When to Use `apply()` vs. `map()`**\n",
        "| Use Case | Use `apply()` | Use `map()` |\n",
        "|----------|--------------|-------------|\n",
        "| **Series Transformations** | ✅ | ✅ |\n",
        "| **Dictionary Mapping** | ❌ | ✅ |\n",
        "| **Row-wise Operations** | ✅ | ❌ |\n",
        "| **Column-wise Operations** | ✅ | ❌ |\n",
        "\n",
        "---\n"
      ],
      "metadata": {
        "id": "_tcxORcgBS4z"
      }
    },
    {
      "cell_type": "markdown",
      "source": [
        "Q18. What are some advanced features of NumPy?"
      ],
      "metadata": {
        "id": "XDN3z2T5BdGe"
      }
    },
    {
      "cell_type": "markdown",
      "source": [
        "Ans.### **Advanced Features of NumPy**  \n",
        "\n",
        "✅ **NumPy is a powerful library with advanced features that make numerical computing efficient and fast.**  \n",
        "✅ **It supports high-performance array operations, linear algebra, broadcasting, and more.**\n",
        "\n",
        "---\n",
        "\n",
        "## **📌 1. Broadcasting (Automatic Shape Adjustment)**\n",
        "🔹 **Allows operations on arrays of different shapes without manual resizing.**  \n",
        "\n",
        "```python\n",
        "import numpy as np\n",
        "\n",
        "A = np.array([[1, 2, 3], [4, 5, 6]])  # Shape (2,3)\n",
        "B = np.array([10, 20, 30])            # Shape (1,3) → Broadcasted\n",
        "C = A + B\n",
        "print(C)\n",
        "```\n",
        "📌 **Output:**\n",
        "```\n",
        "[[11 22 33]\n",
        " [14 25 36]]\n",
        "```\n",
        "🚀 **No need for loops! NumPy adjusts the shape automatically.**\n",
        "\n",
        "---\n",
        "\n",
        "## **📌 2. Vectorized Operations (Faster Computation)**\n",
        "🔹 **Applies operations on entire arrays without using loops (much faster than Python lists).**  \n",
        "\n",
        "```python\n",
        "A = np.array([1, 2, 3, 4])\n",
        "B = A ** 2  # Squaring each element\n",
        "print(B)\n",
        "```\n",
        "📌 **Output:**\n",
        "```\n",
        "[ 1  4  9 16]\n",
        "```\n",
        "⚡ **NumPy performs this in optimized C code (much faster than Python loops).**\n",
        "\n",
        "---\n",
        "\n",
        "## **📌 3. Linear Algebra (`numpy.linalg`)**\n",
        "🔹 **Supports matrix operations, eigenvalues, determinants, inverses, and more.**  \n",
        "\n",
        "```python\n",
        "from numpy.linalg import inv, det\n",
        "\n",
        "A = np.array([[2, 3], [1, 4]])\n",
        "print(\"Determinant:\", det(A))\n",
        "print(\"Inverse:\\n\", inv(A))\n",
        "```\n",
        "📌 **Output:**\n",
        "```\n",
        "Determinant: 5.0\n",
        "Inverse:\n",
        "[[ 0.8 -0.6]\n",
        " [-0.2  0.4]]\n",
        "```\n",
        "🎯 **Essential for Machine Learning & Data Science!**\n",
        "\n",
        "---\n",
        "\n",
        "## **📌 4. Fancy Indexing (Advanced Slicing)**\n",
        "🔹 **Select multiple elements using an array of indices.**  \n",
        "\n",
        "```python\n",
        "A = np.array([10, 20, 30, 40, 50])\n",
        "indices = [1, 3]  # Select elements at index 1 and 3\n",
        "print(A[indices])\n",
        "```\n",
        "📌 **Output:**\n",
        "```\n",
        "[20 40]\n",
        "```\n",
        "🎯 **More efficient than loops!**\n",
        "\n",
        "---\n",
        "\n",
        "## **📌 5. Boolean Masking (Filter Arrays Easily)**\n",
        "🔹 **Extract elements that satisfy a condition.**  \n",
        "\n",
        "```python\n",
        "A = np.array([5, 10, 15, 20, 25])\n",
        "B = A[A > 10]  # Select elements greater than 10\n",
        "print(B)\n",
        "```\n",
        "📌 **Output:**\n",
        "```\n",
        "[15 20 25]\n",
        "```\n",
        "🔥 **Much faster than filtering with loops!**\n",
        "\n",
        "---\n",
        "\n",
        "## **📌 6. NumPy Structured Arrays (Store Multiple Data Types)**\n",
        "🔹 **Like Pandas, but optimized for performance.**  \n",
        "\n",
        "```python\n",
        "data = np.array([(1, \"Alice\", 25), (2, \"Bob\", 30)], dtype=[(\"ID\", \"i4\"), (\"Name\", \"U10\"), (\"Age\", \"i4\")])\n",
        "print(data[\"Name\"])  # Access the Name column\n",
        "```\n",
        "📌 **Output:**\n",
        "```\n",
        "['Alice' 'Bob']\n",
        "```\n",
        "🎯 **Great for handling structured data efficiently.**\n",
        "\n",
        "---\n",
        "\n",
        "## **📌 7. Random Number Generation (`numpy.random`)**\n",
        "🔹 **Generate random numbers for simulations & AI models.**  \n",
        "\n",
        "```python\n",
        "import numpy as np\n",
        "\n",
        "np.random.seed(42)  # Reproducibility\n",
        "rand_nums = np.random.rand(5)  # Generate 5 random numbers\n",
        "print(rand_nums)\n",
        "```\n",
        "📌 **Output (consistent each run):**\n",
        "```\n",
        "[0.37454012 0.95071431 0.73199394 0.59865848 0.15601864]\n",
        "```\n",
        "🎯 **Useful for AI, simulations, and testing!**\n",
        "\n",
        "---\n",
        "\n",
        "## **📌 8. Fast Fourier Transform (FFT)**\n",
        "🔹 **Used for signal processing, audio analysis, and image compression.**  \n",
        "\n",
        "```python\n",
        "import numpy as np\n",
        "\n",
        "x = np.array([0, 1, 0, -1])\n",
        "fft_result = np.fft.fft(x)\n",
        "print(fft_result)\n",
        "```\n",
        "📌 **Performs a Fast Fourier Transform (FFT) efficiently!**\n",
        "\n",
        "---\n",
        "\n",
        "## **📌 9. Parallel Computing with `numpy.vectorize()`**\n",
        "🔹 **Efficiently applies functions to NumPy arrays using parallel processing.**  \n",
        "\n",
        "```python\n",
        "def square(x):\n",
        "    return x ** 2\n",
        "\n",
        "vec_square = np.vectorize(square)\n",
        "A = np.array([1, 2, 3, 4])\n",
        "print(vec_square(A))  # Apply function to entire array\n",
        "```\n",
        "📌 **Output:**\n",
        "```\n",
        "[ 1  4  9 16]\n",
        "```\n",
        "🚀 **Much faster than using Python loops!**\n",
        "\n",
        "---\n",
        "\n",
        "### **🔹 Summary: Why Use NumPy for Advanced Computations?**\n",
        "✅ **Fast & Memory-Efficient** (C-based operations).  \n",
        "✅ **Supports High-Dimensional Data** (1D, 2D, 3D, and more).  \n",
        "✅ **Advanced Math Functions** (Linear Algebra, FFT, Random Numbers).  \n",
        "✅ **Broadcasting & Vectorization** (Avoids slow Python loops).  \n",
        "✅ **Used in AI, Data Science, and Machine Learning.**  \n"
      ],
      "metadata": {
        "id": "hK9dCd-2BhZc"
      }
    },
    {
      "cell_type": "markdown",
      "source": [
        "Q19. How does Pandas simplify time series analysis?"
      ],
      "metadata": {
        "id": "bq0okmXTB0yD"
      }
    },
    {
      "cell_type": "markdown",
      "source": [
        "Ans. ### **How Pandas Simplifies Time Series Analysis**  \n",
        "\n",
        "✅ **Pandas makes time series analysis easier by providing built-in functions for date handling, resampling, shifting, and rolling statistics.**  \n",
        "✅ **It allows efficient operations on datetime-indexed data without complex loops.**  \n",
        "\n",
        "---\n",
        "\n",
        "## **📌 1. Handling Date & Time Data Easily**\n",
        "🔹 **Convert a column to DateTime format (`pd.to_datetime()`).**  \n",
        "```python\n",
        "import pandas as pd\n",
        "\n",
        "# Creating a DataFrame with date strings\n",
        "df = pd.DataFrame({\"Date\": [\"2023-01-01\", \"2023-02-01\", \"2023-03-01\"], \"Sales\": [100, 150, 200]})\n",
        "\n",
        "# Convert 'Date' column to datetime format\n",
        "df[\"Date\"] = pd.to_datetime(df[\"Date\"])\n",
        "\n",
        "print(df.dtypes)  # Date is now in datetime format\n",
        "```\n",
        "📌 **Pandas automatically recognizes dates and enables date-based operations.**\n",
        "\n",
        "---\n",
        "\n",
        "## **📌 2. Setting Date as Index (`set_index()`)**\n",
        "🔹 **Using a DateTime index helps in faster filtering & analysis.**  \n",
        "```python\n",
        "df.set_index(\"Date\", inplace=True)\n",
        "print(df)\n",
        "```\n",
        "📌 **Now, we can use time-based indexing!**\n",
        "\n",
        "---\n",
        "\n",
        "## **📌 3. Time-Based Indexing & Slicing**\n",
        "🔹 **Extract specific dates or time ranges easily.**  \n",
        "```python\n",
        "# Select data for a specific month\n",
        "print(df.loc[\"2023-02-01\"])\n",
        "\n",
        "# Select data for a whole year\n",
        "print(df.loc[\"2023\"])\n",
        "```\n",
        "📌 **No need for complex filtering!**\n",
        "\n",
        "---\n",
        "\n",
        "## **📌 4. Resampling Time Series Data (`resample()`)**\n",
        "🔹 **Convert daily data into weekly/monthly summaries.**  \n",
        "```python\n",
        "# Resample to get monthly sum\n",
        "df.resample(\"M\").sum()\n",
        "```\n",
        "📌 **Common resampling frequencies:**\n",
        "| Code | Meaning |\n",
        "|------|---------|\n",
        "| `D`  | Daily   |\n",
        "| `W`  | Weekly  |\n",
        "| `M`  | Monthly |\n",
        "| `Q`  | Quarterly |\n",
        "| `Y`  | Yearly  |\n",
        "\n",
        "---\n",
        "\n",
        "## **📌 5. Rolling Window Calculations (`rolling()`)**\n",
        "🔹 **Compute moving averages & trends.**  \n",
        "```python\n",
        "df[\"Moving_Avg\"] = df[\"Sales\"].rolling(window=2).mean()\n",
        "```\n",
        "📌 **Helps smooth out fluctuations in time series data.**\n",
        "\n",
        "---\n",
        "\n",
        "## **📌 6. Shifting & Lagging Data (`shift()`)**\n",
        "🔹 **Create lagged data for trend analysis.**  \n",
        "```python\n",
        "df[\"Previous_Month_Sales\"] = df[\"Sales\"].shift(1)\n",
        "```\n",
        "📌 **Useful for time-lagged correlations.**\n",
        "\n",
        "---\n",
        "\n",
        "## **📌 7. Handling Missing Dates (`asfreq()`)**\n",
        "🔹 **Ensure consistent time intervals in the dataset.**  \n",
        "```python\n",
        "df = df.asfreq(\"D\")  # Converts data to daily frequency\n",
        "```\n",
        "📌 **Fills missing dates automatically!**\n",
        "\n",
        "---\n",
        "\n",
        "## **📌 8. Time Zone Handling (`tz_localize()`, `tz_convert()`)**\n",
        "🔹 **Convert time zones effortlessly.**  \n",
        "```python\n",
        "df.index = df.index.tz_localize(\"UTC\").tz_convert(\"US/Eastern\")\n",
        "```\n"
      ],
      "metadata": {
        "id": "4Hc1qlhJB5s7"
      }
    },
    {
      "cell_type": "markdown",
      "source": [
        "Q20. What is the role of a pivot table in Pandas?"
      ],
      "metadata": {
        "id": "dVNNH72PCXLM"
      }
    },
    {
      "cell_type": "markdown",
      "source": [
        "Ans. ### **Role of a Pivot Table in Pandas**  \n",
        "\n",
        "✅ **A pivot table in Pandas is used to summarize, aggregate, and analyze data in a structured format.**  \n",
        "✅ **It is similar to an Excel pivot table and helps reorganize data by grouping and performing calculations.**  \n",
        "\n",
        "---\n",
        "\n",
        "## **📌 Key Features of Pandas Pivot Tables**\n",
        "| Feature           | Explanation |\n",
        "|------------------|------------|\n",
        "| **1. Data Aggregation** | Computes `sum`, `mean`, `count`, etc. |\n",
        "| **2. Reshapes Data** | Converts long-format data into a structured format. |\n",
        "| **3. Groups by Multiple Columns** | Allows multiple index levels. |\n",
        "| **4. Easy to Analyze** | Helps in reporting and business analytics. |\n",
        "\n",
        "---\n",
        "\n",
        "## **📌 Example 1: Creating a Basic Pivot Table**\n",
        "```python\n",
        "import pandas as pd\n",
        "\n",
        "# Sample Data\n",
        "data = {\n",
        "    \"Date\": [\"2024-01-01\", \"2024-01-01\", \"2024-01-02\", \"2024-01-02\", \"2024-01-03\"],\n",
        "    \"City\": [\"New York\", \"Los Angeles\", \"New York\", \"Los Angeles\", \"New York\"],\n",
        "    \"Sales\": [100, 200, 150, 250, 300]\n",
        "}\n",
        "\n",
        "df = pd.DataFrame(data)\n",
        "\n",
        "# Create a pivot table\n",
        "pivot = df.pivot_table(index=\"Date\", columns=\"City\", values=\"Sales\", aggfunc=\"sum\")\n",
        "print(pivot)\n",
        "```\n",
        "📌 **Output:**\n",
        "```\n",
        "City        Los Angeles  New York\n",
        "Date                             \n",
        "2024-01-01         200      100\n",
        "2024-01-02         250      150\n",
        "2024-01-03         NaN      300\n",
        "```\n",
        "🔹 **Summarizes sales data per city for each date.**  \n",
        "\n",
        "---\n",
        "\n",
        "## **📌 Example 2: Using Multiple Aggregation Functions**\n",
        "```python\n",
        "pivot = df.pivot_table(index=\"City\", values=\"Sales\", aggfunc=[\"sum\", \"mean\", \"count\"])\n",
        "print(pivot)\n",
        "```\n",
        "📌 **Output:**\n",
        "```\n",
        "              sum  mean  count\n",
        "City                           \n",
        "Los Angeles  450  225.0      2\n",
        "New York     550  183.3      3\n",
        "```\n",
        "🔹 **Shows total, average, and count of sales per city.**\n",
        "\n",
        "---\n",
        "\n",
        "## **📌 Example 3: Adding `fill_value` to Replace NaNs**\n",
        "```python\n",
        "pivot = df.pivot_table(index=\"Date\", columns=\"City\", values=\"Sales\", aggfunc=\"sum\", fill_value=0)\n",
        "print(pivot)\n",
        "```\n",
        "📌 **Replaces missing values (`NaN`) with `0`.**\n",
        "\n",
        "---\n",
        "\n",
        "### **📌 When to Use a Pivot Table?**\n",
        "✔ **Summarizing large datasets efficiently.**  \n",
        "✔ **Generating business reports (e.g., sales by region).**  \n",
        "✔ **Aggregating and grouping data dynamically.**  \n",
        "\n"
      ],
      "metadata": {
        "id": "Wd7D5VtQCfCS"
      }
    },
    {
      "cell_type": "markdown",
      "source": [
        "Q21. Why is NumPy’s array slicing faster than Python’s list slicing?"
      ],
      "metadata": {
        "id": "jo-3HbEYC2fC"
      }
    },
    {
      "cell_type": "markdown",
      "source": [
        "Ans. ### **Why is NumPy’s Array Slicing Faster than Python’s List Slicing?**  \n",
        "\n",
        "✅ **NumPy arrays are much faster than Python lists because they are stored in contiguous memory and leverage optimized C-based operations.**  \n",
        "✅ **This allows NumPy to slice and access data much faster than traditional Python lists.**\n",
        "\n",
        "---\n",
        "\n",
        "## **📌 Key Reasons Why NumPy is Faster**\n",
        "\n",
        "### **1️⃣ NumPy Uses Contiguous Memory Storage (Better Caching)**\n",
        "- **NumPy arrays** are stored in a **contiguous block of memory**, which allows **efficient memory access**.\n",
        "- **Python lists** store references to objects, causing extra memory lookups.\n",
        "\n",
        "**Example: Checking Memory Addresses**\n",
        "```python\n",
        "import numpy as np\n",
        "\n",
        "arr = np.array([1, 2, 3, 4, 5])\n",
        "print(arr.__array_interface__['data'])  # Memory address of NumPy array\n",
        "```\n",
        "📌 **Output:** `(Some memory address, False)` → All elements are stored **contiguously**.\n",
        "\n",
        "🔹 **Contiguous storage** makes slicing fast because the CPU can fetch data efficiently.\n",
        "\n",
        "---\n",
        "\n",
        "### **2️⃣ NumPy Performs Vectorized Operations (C-based Implementation)**\n",
        "- **NumPy slicing is handled in C**, avoiding Python’s overhead.\n",
        "- **Python lists use loops** to slice and access data, making them slower.\n",
        "\n",
        "**Example: Timing NumPy vs. Python List Slicing**\n",
        "```python\n",
        "import numpy as np\n",
        "import time\n",
        "\n",
        "# Creating a large NumPy array and Python list\n",
        "arr = np.arange(1_000_000)\n",
        "lst = list(range(1_000_000))\n",
        "\n",
        "# NumPy slicing time\n",
        "start = time.time()\n",
        "arr_slice = arr[100:200]  # Fast slicing\n",
        "end = time.time()\n",
        "print(\"NumPy Slice Time:\", end - start)\n",
        "\n",
        "# Python list slicing time\n",
        "start = time.time()\n",
        "lst_slice = lst[100:200]  # Slower slicing\n",
        "end = time.time()\n",
        "print(\"Python List Slice Time:\", end - start)\n",
        "```\n",
        "📌 **Output (Example Timing Results):**\n",
        "```\n",
        "NumPy Slice Time: 0.000002 seconds\n",
        "Python List Slice Time: 0.000120 seconds\n",
        "```\n",
        "🚀 **NumPy is almost 60x faster!**\n",
        "\n",
        "---\n",
        "\n",
        "### **3️⃣ NumPy Uses Views Instead of Copies (Saves Memory & Time)**\n",
        "- **NumPy slicing creates a \"view\" (reference to the same data)**, so it **does not copy data**.\n",
        "- **Python lists create a new copy** when slicing, making it slower.\n",
        "\n",
        "**Example: NumPy Slicing vs. Python List Copying**\n",
        "```python\n",
        "arr = np.array([1, 2, 3, 4, 5])\n",
        "arr_slice = arr[1:4]  # View (no new copy)\n",
        "arr_slice[0] = 99  # Modifies original array\n",
        "print(arr)  # Output: [ 1 99  3  4  5]\n",
        "\n",
        "lst = [1, 2, 3, 4, 5]\n",
        "lst_slice = lst[1:4]  # New list (copy)\n",
        "lst_slice[0] = 99\n",
        "print(lst)  # Output: [1, 2, 3, 4, 5] (original remains unchanged)\n",
        "```\n",
        "📌 **NumPy slicing does not create a new copy, but Python lists do.**  \n",
        "🔹 **This makes NumPy slicing faster and memory-efficient.**\n",
        "\n",
        "---\n",
        "\n",
        "### **🔹 Summary: Why is NumPy Slicing Faster?**\n",
        "| Feature | NumPy Arrays | Python Lists |\n",
        "|---------|-------------|--------------|\n",
        "| **Memory Storage** | Contiguous (fast access) | Non-contiguous (slow lookup) |\n",
        "| **Execution Speed** | C-based, highly optimized | Python-based, slow |\n",
        "| **Vectorized Operations** | Yes (fast slicing) | No (slow loops) |\n",
        "| **Creates Copies?** | No (creates views) | Yes (creates new lists) |\n",
        "\n",
        "🚀 **NumPy slicing is significantly faster, memory-efficient, and optimized for numerical computing.**"
      ],
      "metadata": {
        "id": "EwVInIcGC7Lx"
      }
    },
    {
      "cell_type": "markdown",
      "source": [
        "Q22. What are some common use cases for Seaborn?"
      ],
      "metadata": {
        "id": "8rxwN0CqDPhq"
      }
    },
    {
      "cell_type": "markdown",
      "source": [
        "Ans. ### **Common Use Cases for Seaborn in Data Visualization**  \n",
        "\n",
        "✅ **Seaborn is a Python library built on Matplotlib, designed for statistical data visualization.**  \n",
        "✅ **It simplifies complex visualizations and works seamlessly with Pandas DataFrames.**  \n",
        "\n",
        "---\n",
        "\n",
        "## **📌 1. Exploratory Data Analysis (EDA)**\n",
        "🔹 **Seaborn is widely used in EDA to explore datasets before applying machine learning models.**  \n",
        "```python\n",
        "import seaborn as sns\n",
        "import pandas as pd\n",
        "\n",
        "df = sns.load_dataset(\"penguins\")\n",
        "print(df.head())  # Preview dataset\n",
        "```\n",
        "📌 **Quickly visualize distributions, relationships, and trends.**\n",
        "\n",
        "---\n",
        "\n",
        "## **📌 2. Creating Beautiful Statistical Plots**\n",
        "🔹 **Seaborn makes it easy to create histograms, box plots, violin plots, etc.**  \n",
        "\n",
        "**Example: Creating a Box Plot to Detect Outliers**\n",
        "```python\n",
        "sns.boxplot(x=\"species\", y=\"body_mass_g\", data=df)\n",
        "```\n",
        "📌 **Box plots are used to identify outliers and distributions.**\n",
        "\n",
        "---\n",
        "\n",
        "## **📌 3. Visualizing Relationships Between Variables**\n",
        "🔹 **Scatter plots, regression plots, and pair plots help in understanding relationships.**  \n",
        "\n",
        "**Example: `scatterplot()` for Relationships**\n",
        "```python\n",
        "sns.scatterplot(x=\"flipper_length_mm\", y=\"body_mass_g\", hue=\"species\", data=df)\n",
        "```\n",
        "📌 **Shows how flipper length affects body mass across species.**\n",
        "\n",
        "---\n",
        "\n",
        "## **📌 4. Creating Heatmaps (Correlation Analysis)**\n",
        "🔹 **Heatmaps are used to analyze correlations between numerical variables.**  \n",
        "\n",
        "```python\n",
        "import numpy as np\n",
        "\n",
        "df_corr = df.corr(numeric_only=True)  # Compute correlations\n",
        "sns.heatmap(df_corr, annot=True, cmap=\"coolwarm\")\n",
        "```\n",
        "📌 **Used in financial and scientific analysis to find variable relationships.**\n",
        "\n",
        "---\n",
        "\n",
        "## **📌 5. Comparing Categories Using Bar Charts**\n",
        "🔹 **Bar charts are useful for summarizing categorical data.**  \n",
        "\n",
        "```python\n",
        "sns.barplot(x=\"species\", y=\"body_mass_g\", data=df)\n",
        "```\n",
        "📌 **Great for comparing average values across categories.**\n",
        "\n",
        "---\n",
        "\n",
        "## **📌 6. Plotting Data Distributions**\n",
        "🔹 **Histograms (`histplot()`), KDE plots (`kdeplot()`), and violin plots help in analyzing distributions.**  \n",
        "\n",
        "```python\n",
        "sns.histplot(df[\"body_mass_g\"], kde=True, bins=20)\n",
        "```\n",
        "📌 **Shows how body mass is distributed with density estimation.**\n",
        "\n",
        "---\n",
        "\n",
        "## **📌 7. Visualizing Time Series Data**\n",
        "🔹 **Seaborn can also be used to analyze trends over time.**  \n",
        "\n",
        "```python\n",
        "df_time = sns.load_dataset(\"flights\")  # Sample dataset\n",
        "sns.lineplot(x=\"year\", y=\"passengers\", data=df_time)\n",
        "```\n",
        "📌 **Shows trends in airline passengers over time.**\n",
        "\n",
        "---\n",
        "\n",
        "### **🔹 Summary: Why Use Seaborn?**\n",
        "| Use Case | Seaborn Function |\n",
        "|----------|-----------------|\n",
        "| **Exploratory Data Analysis (EDA)** | `pairplot()`, `boxplot()` |\n",
        "| **Correlation Analysis** | `heatmap()` |\n",
        "| **Categorical Comparisons** | `barplot()`, `countplot()` |\n",
        "| **Regression Analysis** | `regplot()`, `lmplot()` |\n",
        "| **Time Series Analysis** | `lineplot()` |\n",
        "| **Distribution Visualization** | `histplot()`, `kdeplot()`, `violinplot()` |\n",
        "\n",
        "📌 **Seaborn makes data visualization effortless, aesthetic, and informative.**  "
      ],
      "metadata": {
        "id": "olbjtoU4DUN6"
      }
    },
    {
      "cell_type": "markdown",
      "source": [
        "**Practical Questions**\n"
      ],
      "metadata": {
        "id": "EWojfIo8Dnh7"
      }
    },
    {
      "cell_type": "markdown",
      "source": [
        "Q1. How do you create a 2D NumPy array and calculate the sum of each row?"
      ],
      "metadata": {
        "id": "qCReC_OiDs6m"
      }
    },
    {
      "cell_type": "code",
      "source": [
        "import numpy as np\n",
        "\n",
        "A = np.array([[1, 2, 3],\n",
        "              [4, 5, 6],\n",
        "              [7, 8, 9]])\n",
        "row_sums = np.sum(A, axis=1)\n",
        "\n",
        "print(\"2D Array:\\n\", A)\n",
        "print(\"Sum of Each Row:\", row_sums)\n"
      ],
      "metadata": {
        "colab": {
          "base_uri": "https://localhost:8080/"
        },
        "id": "JRde10NNDyoL",
        "outputId": "2c5f455d-a8ae-4776-da4a-7c7e4de542a5"
      },
      "execution_count": null,
      "outputs": [
        {
          "output_type": "stream",
          "name": "stdout",
          "text": [
            "2D Array:\n",
            " [[1 2 3]\n",
            " [4 5 6]\n",
            " [7 8 9]]\n",
            "Sum of Each Row: [ 6 15 24]\n"
          ]
        }
      ]
    },
    {
      "cell_type": "markdown",
      "source": [
        "Q2.  Write a Pandas script to find the mean of a specific column in a DataFrame."
      ],
      "metadata": {
        "id": "sY6S8O8jEaMI"
      }
    },
    {
      "cell_type": "code",
      "source": [
        "import pandas as pd\n",
        "\n",
        "data = {\n",
        "    \"Name\": [\"Alice\", \"Bob\", \"Charlie\", \"David\", \"Eve\"],\n",
        "    \"Age\": [25, 30, 35, 40, 28],\n",
        "    \"Salary\": [50000, 60000, 70000, 80000, 55000]\n",
        "}\n",
        "\n",
        "df = pd.DataFrame(data)\n",
        "\n",
        "mean_salary = df[\"Salary\"].mean()\n",
        "\n",
        "print(\"Mean Salary:\", mean_salary)\n"
      ],
      "metadata": {
        "colab": {
          "base_uri": "https://localhost:8080/"
        },
        "id": "5G-aFqJ4EgRT",
        "outputId": "de20428d-37ae-4383-d665-4ac0756a6945"
      },
      "execution_count": null,
      "outputs": [
        {
          "output_type": "stream",
          "name": "stdout",
          "text": [
            "Mean Salary: 63000.0\n"
          ]
        }
      ]
    },
    {
      "cell_type": "markdown",
      "source": [
        "Q3. Create a scatter plot using Matplotlib."
      ],
      "metadata": {
        "id": "od-3nD3QEva-"
      }
    },
    {
      "cell_type": "code",
      "source": [
        "import matplotlib.pyplot as plt\n",
        "\n",
        "x = [10, 20, 30, 40, 50]\n",
        "y = [100, 200, 250, 300, 400]\n",
        "\n",
        "plt.scatter(x, y, color=\"blue\", marker=\"o\", label=\"Data Points\")\n",
        "\n",
        "plt.xlabel(\"X-axis (Independent Variable)\")\n",
        "plt.ylabel(\"Y-axis (Dependent Variable)\")\n",
        "plt.title(\"Scatter Plot Example\")\n",
        "plt.legend()\n",
        "\n",
        "plt.show()\n"
      ],
      "metadata": {
        "colab": {
          "base_uri": "https://localhost:8080/",
          "height": 472
        },
        "id": "BfqT7-GdEzVr",
        "outputId": "53ed19e6-695d-4a32-ef14-81d7c3948b0d"
      },
      "execution_count": null,
      "outputs": [
        {
          "output_type": "display_data",
          "data": {
            "text/plain": [
              "<Figure size 640x480 with 1 Axes>"
            ],
            "image/png": "[encoded data removed]"
          },
          "metadata": {}
        }
      ]
    },
    {
      "cell_type": "markdown",
      "source": [
        "Q4. How do you calculate the correlation matrix using Seaborn and visualize it with a heatmap?"
      ],
      "metadata": {
        "id": "DFN3cZ1qFCax"
      }
    },
    {
      "cell_type": "code",
      "source": [
        "import seaborn as sns\n",
        "import pandas as pd\n",
        "import numpy as np\n",
        "import matplotlib.pyplot as plt\n",
        "\n",
        "data = {\n",
        "    \"Age\": [25, 30, 35, 40, 45],\n",
        "    \"Salary\": [50000, 60000, 75000, 80000, 90000],\n",
        "    \"Experience\": [2, 5, 7, 10, 12]\n",
        "}\n",
        "\n",
        "df = pd.DataFrame(data)\n",
        "\n",
        "corr_matrix = df.corr()\n",
        "\n",
        "plt.figure(figsize=(6, 4))\n",
        "sns.heatmap(corr_matrix, annot=True, cmap=\"coolwarm\", fmt=\".2f\", linewidths=0.5)\n",
        "\n",
        "plt.title(\"Correlation Matrix Heatmap\")\n",
        "plt.show()\n"
      ],
      "metadata": {
        "colab": {
          "base_uri": "https://localhost:8080/",
          "height": 391
        },
        "id": "FLxa_l5pFH7-",
        "outputId": "41977831-f3ff-49e2-8187-d52242e60849"
      },
      "execution_count": null,
      "outputs": [
        {
          "output_type": "display_data",
          "data": {
            "text/plain": [
              "<Figure size 600x400 with 2 Axes>"
            ],
            "image/png": "[encoded data removed]"
          },
          "metadata": {}
        }
      ]
    },
    {
      "cell_type": "markdown",
      "source": [
        "Q5.  Generate a bar plot using Plotly."
      ],
      "metadata": {
        "id": "851vRhNzFfpy"
      }
    },
    {
      "cell_type": "code",
      "source": [
        "import plotly.express as px\n",
        "import pandas as pd\n",
        "\n",
        "data = {\n",
        "    \"Category\": [\"A\", \"B\", \"C\", \"D\", \"E\"],\n",
        "    \"Sales\": [100, 200, 150, 300, 250]\n",
        "}\n",
        "\n",
        "df = pd.DataFrame(data)\n",
        "\n",
        "fig = px.bar(df, x=\"Category\", y=\"Sales\", color=\"Category\", title=\"Sales by Category\")\n",
        "\n",
        "fig.show()\n"
      ],
      "metadata": {
        "colab": {
          "base_uri": "https://localhost:8080/",
          "height": 542
        },
        "id": "2r21i8QjFj7t",
        "outputId": "d8d95f10-1dda-4d7f-b8f0-816c45627e9e"
      },
      "execution_count": null,
      "outputs": [
        {
          "output_type": "display_data",
          "data": {
            "text/html": [
              "<html>\n",
              "<head><meta charset=\"utf-8\" /></head>\n",
              "<body>\n",
              "    <div>            <script src=\"https://cdnjs.cloudflare.com/ajax/libs/mathjax/2.7.5/MathJax.js?config=TeX-AMS-MML_SVG\"></script><script type=\"text/javascript\">if (window.MathJax && window.MathJax.Hub && window.MathJax.Hub.Config) {window.MathJax.Hub.Config({SVG: {font: \"STIX-Web\"}});}</script>                <script type=\"text/javascript\">window.PlotlyConfig = {MathJaxConfig: 'local'};</script>\n",
              "        <script charset=\"utf-8\" src=\"https://cdn.plot.ly/plotly-2.35.2.min.js\"></script>                <div id=\"eb4e6014-7171-4f67-9961-a4ee33dcadab\" class=\"plotly-graph-div\" style=\"height:525px; width:100%;\"></div>            <script type=\"text/javascript\">                                    window.PLOTLYENV=window.PLOTLYENV || {};                                    if (document.getElementById(\"eb4e6014-7171-4f67-9961-a4ee33dcadab\")) {                    Plotly.newPlot(                        \"eb4e6014-7171-4f67-9961-a4ee33dcadab\",                        [{\"alignmentgroup\":\"True\",\"hovertemplate\":\"Category=%{x}\\u003cbr\\u003eSales=%{y}\\u003cextra\\u003e\\u003c\\u002fextra\\u003e\",\"legendgroup\":\"A\",\"marker\":{\"color\":\"#636efa\",\"pattern\":{\"shape\":\"\"}},\"name\":\"A\",\"offsetgroup\":\"A\",\"orientation\":\"v\",\"showlegend\":true,\"textposition\":\"auto\",\"x\":[\"A\"],\"xaxis\":\"x\",\"y\":[100],\"yaxis\":\"y\",\"type\":\"bar\"},{\"alignmentgroup\":\"True\",\"hovertemplate\":\"Category=%{x}\\u003cbr\\u003eSales=%{y}\\u003cextra\\u003e\\u003c\\u002fextra\\u003e\",\"legendgroup\":\"B\",\"marker\":{\"color\":\"#EF553B\",\"pattern\":{\"shape\":\"\"}},\"name\":\"B\",\"offsetgroup\":\"B\",\"orientation\":\"v\",\"showlegend\":true,\"textposition\":\"auto\",\"x\":[\"B\"],\"xaxis\":\"x\",\"y\":[200],\"yaxis\":\"y\",\"type\":\"bar\"},{\"alignmentgroup\":\"True\",\"hovertemplate\":\"Category=%{x}\\u003cbr\\u003eSales=%{y}\\u003cextra\\u003e\\u003c\\u002fextra\\u003e\",\"legendgroup\":\"C\",\"marker\":{\"color\":\"#00cc96\",\"pattern\":{\"shape\":\"\"}},\"name\":\"C\",\"offsetgroup\":\"C\",\"orientation\":\"v\",\"showlegend\":true,\"textposition\":\"auto\",\"x\":[\"C\"],\"xaxis\":\"x\",\"y\":[150],\"yaxis\":\"y\",\"type\":\"bar\"},{\"alignmentgroup\":\"True\",\"hovertemplate\":\"Category=%{x}\\u003cbr\\u003eSales=%{y}\\u003cextra\\u003e\\u003c\\u002fextra\\u003e\",\"legendgroup\":\"D\",\"marker\":{\"color\":\"#ab63fa\",\"pattern\":{\"shape\":\"\"}},\"name\":\"D\",\"offsetgroup\":\"D\",\"orientation\":\"v\",\"showlegend\":true,\"textposition\":\"auto\",\"x\":[\"D\"],\"xaxis\":\"x\",\"y\":[300],\"yaxis\":\"y\",\"type\":\"bar\"},{\"alignmentgroup\":\"True\",\"hovertemplate\":\"Category=%{x}\\u003cbr\\u003eSales=%{y}\\u003cextra\\u003e\\u003c\\u002fextra\\u003e\",\"legendgroup\":\"E\",\"marker\":{\"color\":\"#FFA15A\",\"pattern\":{\"shape\":\"\"}},\"name\":\"E\",\"offsetgroup\":\"E\",\"orientation\":\"v\",\"showlegend\":true,\"textposition\":\"auto\",\"x\":[\"E\"],\"xaxis\":\"x\",\"y\":[250],\"yaxis\":\"y\",\"type\":\"bar\"}],                        {\"template\":{\"data\":{\"histogram2dcontour\":[{\"type\":\"histogram2dcontour\",\"colorbar\":{\"outlinewidth\":0,\"ticks\":\"\"},\"colorscale\":[[0.0,\"#0d0887\"],[0.1111111111111111,\"#46039f\"],[0.2222222222222222,\"#7201a8\"],[0.3333333333333333,\"#9c179e\"],[0.4444444444444444,\"#bd3786\"],[0.5555555555555556,\"#d8576b\"],[0.6666666666666666,\"#ed7953\"],[0.7777777777777778,\"#fb9f3a\"],[0.8888888888888888,\"#fdca26\"],[1.0,\"#f0f921\"]]}],\"choropleth\":[{\"type\":\"choropleth\",\"colorbar\":{\"outlinewidth\":0,\"ticks\":\"\"}}],\"histogram2d\":[{\"type\":\"histogram2d\",\"colorbar\":{\"outlinewidth\":0,\"ticks\":\"\"},\"colorscale\":[[0.0,\"#0d0887\"],[0.1111111111111111,\"#46039f\"],[0.2222222222222222,\"#7201a8\"],[0.3333333333333333,\"#9c179e\"],[0.4444444444444444,\"#bd3786\"],[0.5555555555555556,\"#d8576b\"],[0.6666666666666666,\"#ed7953\"],[0.7777777777777778,\"#fb9f3a\"],[0.8888888888888888,\"#fdca26\"],[1.0,\"#f0f921\"]]}],\"heatmap\":[{\"type\":\"heatmap\",\"colorbar\":{\"outlinewidth\":0,\"ticks\":\"\"},\"colorscale\":[[0.0,\"#0d0887\"],[0.1111111111111111,\"#46039f\"],[0.2222222222222222,\"#7201a8\"],[0.3333333333333333,\"#9c179e\"],[0.4444444444444444,\"#bd3786\"],[0.5555555555555556,\"#d8576b\"],[0.6666666666666666,\"#ed7953\"],[0.7777777777777778,\"#fb9f3a\"],[0.8888888888888888,\"#fdca26\"],[1.0,\"#f0f921\"]]}],\"heatmapgl\":[{\"type\":\"heatmapgl\",\"colorbar\":{\"outlinewidth\":0,\"ticks\":\"\"},\"colorscale\":[[0.0,\"#0d0887\"],[0.1111111111111111,\"#46039f\"],[0.2222222222222222,\"#7201a8\"],[0.3333333333333333,\"#9c179e\"],[0.4444444444444444,\"#bd3786\"],[0.5555555555555556,\"#d8576b\"],[0.6666666666666666,\"#ed7953\"],[0.7777777777777778,\"#fb9f3a\"],[0.8888888888888888,\"#fdca26\"],[1.0,\"#f0f921\"]]}],\"contourcarpet\":[{\"type\":\"contourcarpet\",\"colorbar\":{\"outlinewidth\":0,\"ticks\":\"\"}}],\"contour\":[{\"type\":\"contour\",\"colorbar\":{\"outlinewidth\":0,\"ticks\":\"\"},\"colorscale\":[[0.0,\"#0d0887\"],[0.1111111111111111,\"#46039f\"],[0.2222222222222222,\"#7201a8\"],[0.3333333333333333,\"#9c179e\"],[0.4444444444444444,\"#bd3786\"],[0.5555555555555556,\"#d8576b\"],[0.6666666666666666,\"#ed7953\"],[0.7777777777777778,\"#fb9f3a\"],[0.8888888888888888,\"#fdca26\"],[1.0,\"#f0f921\"]]}],\"surface\":[{\"type\":\"surface\",\"colorbar\":{\"outlinewidth\":0,\"ticks\":\"\"},\"colorscale\":[[0.0,\"#0d0887\"],[0.1111111111111111,\"#46039f\"],[0.2222222222222222,\"#7201a8\"],[0.3333333333333333,\"#9c179e\"],[0.4444444444444444,\"#bd3786\"],[0.5555555555555556,\"#d8576b\"],[0.6666666666666666,\"#ed7953\"],[0.7777777777777778,\"#fb9f3a\"],[0.8888888888888888,\"#fdca26\"],[1.0,\"#f0f921\"]]}],\"mesh3d\":[{\"type\":\"mesh3d\",\"colorbar\":{\"outlinewidth\":0,\"ticks\":\"\"}}],\"scatter\":[{\"fillpattern\":{\"fillmode\":\"overlay\",\"size\":10,\"solidity\":0.2},\"type\":\"scatter\"}],\"parcoords\":[{\"type\":\"parcoords\",\"line\":{\"colorbar\":{\"outlinewidth\":0,\"ticks\":\"\"}}}],\"scatterpolargl\":[{\"type\":\"scatterpolargl\",\"marker\":{\"colorbar\":{\"outlinewidth\":0,\"ticks\":\"\"}}}],\"bar\":[{\"error_x\":{\"color\":\"#2a3f5f\"},\"error_y\":{\"color\":\"#2a3f5f\"},\"marker\":{\"line\":{\"color\":\"#E5ECF6\",\"width\":0.5},\"pattern\":{\"fillmode\":\"overlay\",\"size\":10,\"solidity\":0.2}},\"type\":\"bar\"}],\"scattergeo\":[{\"type\":\"scattergeo\",\"marker\":{\"colorbar\":{\"outlinewidth\":0,\"ticks\":\"\"}}}],\"scatterpolar\":[{\"type\":\"scatterpolar\",\"marker\":{\"colorbar\":{\"outlinewidth\":0,\"ticks\":\"\"}}}],\"histogram\":[{\"marker\":{\"pattern\":{\"fillmode\":\"overlay\",\"size\":10,\"solidity\":0.2}},\"type\":\"histogram\"}],\"scattergl\":[{\"type\":\"scattergl\",\"marker\":{\"colorbar\":{\"outlinewidth\":0,\"ticks\":\"\"}}}],\"scatter3d\":[{\"type\":\"scatter3d\",\"line\":{\"colorbar\":{\"outlinewidth\":0,\"ticks\":\"\"}},\"marker\":{\"colorbar\":{\"outlinewidth\":0,\"ticks\":\"\"}}}],\"scattermapbox\":[{\"type\":\"scattermapbox\",\"marker\":{\"colorbar\":{\"outlinewidth\":0,\"ticks\":\"\"}}}],\"scatterternary\":[{\"type\":\"scatterternary\",\"marker\":{\"colorbar\":{\"outlinewidth\":0,\"ticks\":\"\"}}}],\"scattercarpet\":[{\"type\":\"scattercarpet\",\"marker\":{\"colorbar\":{\"outlinewidth\":0,\"ticks\":\"\"}}}],\"carpet\":[{\"aaxis\":{\"endlinecolor\":\"#2a3f5f\",\"gridcolor\":\"white\",\"linecolor\":\"white\",\"minorgridcolor\":\"white\",\"startlinecolor\":\"#2a3f5f\"},\"baxis\":{\"endlinecolor\":\"#2a3f5f\",\"gridcolor\":\"white\",\"linecolor\":\"white\",\"minorgridcolor\":\"white\",\"startlinecolor\":\"#2a3f5f\"},\"type\":\"carpet\"}],\"table\":[{\"cells\":{\"fill\":{\"color\":\"#EBF0F8\"},\"line\":{\"color\":\"white\"}},\"header\":{\"fill\":{\"color\":\"#C8D4E3\"},\"line\":{\"color\":\"white\"}},\"type\":\"table\"}],\"barpolar\":[{\"marker\":{\"line\":{\"color\":\"#E5ECF6\",\"width\":0.5},\"pattern\":{\"fillmode\":\"overlay\",\"size\":10,\"solidity\":0.2}},\"type\":\"barpolar\"}],\"pie\":[{\"automargin\":true,\"type\":\"pie\"}]},\"layout\":{\"autotypenumbers\":\"strict\",\"colorway\":[\"#636efa\",\"#EF553B\",\"#00cc96\",\"#ab63fa\",\"#FFA15A\",\"#19d3f3\",\"#FF6692\",\"#B6E880\",\"#FF97FF\",\"#FECB52\"],\"font\":{\"color\":\"#2a3f5f\"},\"hovermode\":\"closest\",\"hoverlabel\":{\"align\":\"left\"},\"paper_bgcolor\":\"white\",\"plot_bgcolor\":\"#E5ECF6\",\"polar\":{\"bgcolor\":\"#E5ECF6\",\"angularaxis\":{\"gridcolor\":\"white\",\"linecolor\":\"white\",\"ticks\":\"\"},\"radialaxis\":{\"gridcolor\":\"white\",\"linecolor\":\"white\",\"ticks\":\"\"}},\"ternary\":{\"bgcolor\":\"#E5ECF6\",\"aaxis\":{\"gridcolor\":\"white\",\"linecolor\":\"white\",\"ticks\":\"\"},\"baxis\":{\"gridcolor\":\"white\",\"linecolor\":\"white\",\"ticks\":\"\"},\"caxis\":{\"gridcolor\":\"white\",\"linecolor\":\"white\",\"ticks\":\"\"}},\"coloraxis\":{\"colorbar\":{\"outlinewidth\":0,\"ticks\":\"\"}},\"colorscale\":{\"sequential\":[[0.0,\"#0d0887\"],[0.1111111111111111,\"#46039f\"],[0.2222222222222222,\"#7201a8\"],[0.3333333333333333,\"#9c179e\"],[0.4444444444444444,\"#bd3786\"],[0.5555555555555556,\"#d8576b\"],[0.6666666666666666,\"#ed7953\"],[0.7777777777777778,\"#fb9f3a\"],[0.8888888888888888,\"#fdca26\"],[1.0,\"#f0f921\"]],\"sequentialminus\":[[0.0,\"#0d0887\"],[0.1111111111111111,\"#46039f\"],[0.2222222222222222,\"#7201a8\"],[0.3333333333333333,\"#9c179e\"],[0.4444444444444444,\"#bd3786\"],[0.5555555555555556,\"#d8576b\"],[0.6666666666666666,\"#ed7953\"],[0.7777777777777778,\"#fb9f3a\"],[0.8888888888888888,\"#fdca26\"],[1.0,\"#f0f921\"]],\"diverging\":[[0,\"#8e0152\"],[0.1,\"#c51b7d\"],[0.2,\"#de77ae\"],[0.3,\"#f1b6da\"],[0.4,\"#fde0ef\"],[0.5,\"#f7f7f7\"],[0.6,\"#e6f5d0\"],[0.7,\"#b8e186\"],[0.8,\"#7fbc41\"],[0.9,\"#4d9221\"],[1,\"#276419\"]]},\"xaxis\":{\"gridcolor\":\"white\",\"linecolor\":\"white\",\"ticks\":\"\",\"title\":{\"standoff\":15},\"zerolinecolor\":\"white\",\"automargin\":true,\"zerolinewidth\":2},\"yaxis\":{\"gridcolor\":\"white\",\"linecolor\":\"white\",\"ticks\":\"\",\"title\":{\"standoff\":15},\"zerolinecolor\":\"white\",\"automargin\":true,\"zerolinewidth\":2},\"scene\":{\"xaxis\":{\"backgroundcolor\":\"#E5ECF6\",\"gridcolor\":\"white\",\"linecolor\":\"white\",\"showbackground\":true,\"ticks\":\"\",\"zerolinecolor\":\"white\",\"gridwidth\":2},\"yaxis\":{\"backgroundcolor\":\"#E5ECF6\",\"gridcolor\":\"white\",\"linecolor\":\"white\",\"showbackground\":true,\"ticks\":\"\",\"zerolinecolor\":\"white\",\"gridwidth\":2},\"zaxis\":{\"backgroundcolor\":\"#E5ECF6\",\"gridcolor\":\"white\",\"linecolor\":\"white\",\"showbackground\":true,\"ticks\":\"\",\"zerolinecolor\":\"white\",\"gridwidth\":2}},\"shapedefaults\":{\"line\":{\"color\":\"#2a3f5f\"}},\"annotationdefaults\":{\"arrowcolor\":\"#2a3f5f\",\"arrowhead\":0,\"arrowwidth\":1},\"geo\":{\"bgcolor\":\"white\",\"landcolor\":\"#E5ECF6\",\"subunitcolor\":\"white\",\"showland\":true,\"showlakes\":true,\"lakecolor\":\"white\"},\"title\":{\"x\":0.05},\"mapbox\":{\"style\":\"light\"}}},\"xaxis\":{\"anchor\":\"y\",\"domain\":[0.0,1.0],\"title\":{\"text\":\"Category\"},\"categoryorder\":\"array\",\"categoryarray\":[\"A\",\"B\",\"C\",\"D\",\"E\"]},\"yaxis\":{\"anchor\":\"x\",\"domain\":[0.0,1.0],\"title\":{\"text\":\"Sales\"}},\"legend\":{\"title\":{\"text\":\"Category\"},\"tracegroupgap\":0},\"title\":{\"text\":\"Sales by Category\"},\"barmode\":\"relative\"},                        {\"responsive\": true}                    ).then(function(){\n",
              "                            \n",
              "var gd = document.getElementById('eb4e6014-7171-4f67-9961-a4ee33dcadab');\n",
              "var x = new MutationObserver(function (mutations, observer) {{\n",
              "        var display = window.getComputedStyle(gd).display;\n",
              "        if (!display || display === 'none') {{\n",
              "            console.log([gd, 'removed!']);\n",
              "            Plotly.purge(gd);\n",
              "            observer.disconnect();\n",
              "        }}\n",
              "}});\n",
              "\n",
              "// Listen for the removal of the full notebook cells\n",
              "var notebookContainer = gd.closest('#notebook-container');\n",
              "if (notebookContainer) {{\n",
              "    x.observe(notebookContainer, {childList: true});\n",
              "}}\n",
              "\n",
              "// Listen for the clearing of the current output cell\n",
              "var outputEl = gd.closest('.output');\n",
              "if (outputEl) {{\n",
              "    x.observe(outputEl, {childList: true});\n",
              "}}\n",
              "\n",
              "                        })                };                            </script>        </div>\n",
              "</body>\n",
              "</html>"
            ]
          },
          "metadata": {}
        }
      ]
    },
    {
      "cell_type": "markdown",
      "source": [
        "Q6.  Create a DataFrame and add a new column based on an existing column."
      ],
      "metadata": {
        "id": "aMSZb3nGF1Qy"
      }
    },
    {
      "cell_type": "code",
      "source": [
        "import pandas as pd\n",
        "\n",
        "data = {\n",
        "    \"Name\": [\"Alice\", \"Bob\", \"Charlie\", \"David\"],\n",
        "    \"Salary\": [50000, 60000, 70000, 80000]\n",
        "}\n",
        "\n",
        "df = pd.DataFrame(data)\n",
        "\n",
        "df[\"Tax\"] = df[\"Salary\"] * 0.10\n",
        "\n",
        "print(df)\n"
      ],
      "metadata": {
        "colab": {
          "base_uri": "https://localhost:8080/"
        },
        "id": "_xbmdQD1F6-0",
        "outputId": "021d7ee8-fe9f-42f7-fc13-f9c0ce022300"
      },
      "execution_count": null,
      "outputs": [
        {
          "output_type": "stream",
          "name": "stdout",
          "text": [
            "      Name  Salary     Tax\n",
            "0    Alice   50000  5000.0\n",
            "1      Bob   60000  6000.0\n",
            "2  Charlie   70000  7000.0\n",
            "3    David   80000  8000.0\n"
          ]
        }
      ]
    },
    {
      "cell_type": "markdown",
      "source": [
        "Q7. Write a program to perform element-wise multiplication of two NumPy arrays."
      ],
      "metadata": {
        "id": "Y1PlwdYlGNAg"
      }
    },
    {
      "cell_type": "code",
      "source": [
        "import numpy as np\n",
        "\n",
        "A = np.array([1, 2, 3, 4, 5])\n",
        "B = np.array([10, 20, 30, 40, 50])\n",
        "\n",
        "C = A * B\n",
        "\n",
        "print(\"Array A:\", A)\n",
        "print(\"Array B:\", B)\n",
        "print(\"Element-wise Multiplication:\", C)\n"
      ],
      "metadata": {
        "colab": {
          "base_uri": "https://localhost:8080/"
        },
        "id": "udYpPEjcGVv2",
        "outputId": "95e75c7a-2de5-4333-dbba-cd41a4cdb168"
      },
      "execution_count": null,
      "outputs": [
        {
          "output_type": "stream",
          "name": "stdout",
          "text": [
            "Array A: [1 2 3 4 5]\n",
            "Array B: [10 20 30 40 50]\n",
            "Element-wise Multiplication: [ 10  40  90 160 250]\n"
          ]
        }
      ]
    },
    {
      "cell_type": "markdown",
      "source": [
        "Q8.  Create a line plot with multiple lines using Matplotlib."
      ],
      "metadata": {
        "id": "mWY615knGmKk"
      }
    },
    {
      "cell_type": "code",
      "source": [
        "import matplotlib.pyplot as plt\n",
        "\n",
        "x = [1, 2, 3, 4, 5]\n",
        "y1 = [10, 20, 30, 40, 50]\n",
        "y2 = [5, 15, 25, 35, 45]\n",
        "y3 = [2, 10, 18, 26, 34]\n",
        "\n",
        "plt.plot(x, y1, marker=\"o\", linestyle=\"-\", color=\"blue\", label=\"Line 1\")\n",
        "plt.plot(x, y2, marker=\"s\", linestyle=\"--\", color=\"red\", label=\"Line 2\")\n",
        "plt.plot(x, y3, marker=\"d\", linestyle=\"-.\", color=\"green\", label=\"Line 3\")\n",
        "\n",
        "plt.xlabel(\"X-axis\")\n",
        "plt.ylabel(\"Y-axis\")\n",
        "plt.title(\"Multiple Line Plot Example\")\n",
        "plt.legend()\n",
        "plt.grid(True)\n",
        "\n",
        "plt.show()\n"
      ],
      "metadata": {
        "colab": {
          "base_uri": "https://localhost:8080/",
          "height": 472
        },
        "id": "YGHuSEAvGrYT",
        "outputId": "a12aee41-eabc-40ea-aa55-45f228ba69d6"
      },
      "execution_count": null,
      "outputs": [
        {
          "output_type": "display_data",
          "data": {
            "text/plain": [
              "<Figure size 640x480 with 1 Axes>"
            ],
            "image/png": "[encoded data removed]"
          },
          "metadata": {}
        }
      ]
    },
    {
      "cell_type": "markdown",
      "source": [
        "Q9. Generate a Pandas DataFrame and filter rows where a column value is greater than a threshold."
      ],
      "metadata": {
        "id": "oaCuRz9SHC3S"
      }
    },
    {
      "cell_type": "code",
      "source": [
        "import pandas as pd\n",
        "\n",
        "data = {\n",
        "    \"Name\": [\"Alice\", \"Bob\", \"Charlie\", \"David\", \"Eve\"],\n",
        "    \"Age\": [25, 30, 35, 40, 28],\n",
        "    \"Salary\": [50000, 60000, 75000, 80000, 55000]\n",
        "}\n",
        "\n",
        "df = pd.DataFrame(data)\n",
        "\n",
        "filtered_df = df[df[\"Salary\"] > 60000]\n",
        "\n",
        "print(\"Employees with Salary > 60000:\")\n",
        "print(filtered_df)\n"
      ],
      "metadata": {
        "colab": {
          "base_uri": "https://localhost:8080/"
        },
        "id": "PGEv5RMfHHRY",
        "outputId": "4bffa208-9d66-4788-bb21-0618e5ffdc03"
      },
      "execution_count": null,
      "outputs": [
        {
          "output_type": "stream",
          "name": "stdout",
          "text": [
            "Employees with Salary > 60000:\n",
            "      Name  Age  Salary\n",
            "2  Charlie   35   75000\n",
            "3    David   40   80000\n"
          ]
        }
      ]
    },
    {
      "cell_type": "markdown",
      "source": [
        "Q10. Create a histogram using Seaborn to visualize a distribution."
      ],
      "metadata": {
        "id": "uYSarHoHHWfN"
      }
    },
    {
      "cell_type": "code",
      "source": [
        "import seaborn as sns\n",
        "import pandas as pd\n",
        "import numpy as np\n",
        "import matplotlib.pyplot as plt\n",
        "\n",
        "np.random.seed(42)\n",
        "data = np.random.randn(1000) * 15 + 50\n",
        "\n",
        "df = pd.DataFrame({\"Values\": data})\n",
        "\n",
        "plt.figure(figsize=(8, 5))\n",
        "sns.histplot(df[\"Values\"], bins=30, kde=True, color=\"blue\")\n",
        "\n",
        "plt.xlabel(\"Value\")\n",
        "plt.ylabel(\"Frequency\")\n",
        "plt.title(\"Histogram of Values with KDE\")\n",
        "plt.grid(True)\n",
        "\n",
        "plt.show()\n"
      ],
      "metadata": {
        "colab": {
          "base_uri": "https://localhost:8080/",
          "height": 487
        },
        "id": "hXfXdMgLHaLC",
        "outputId": "162d5af1-dd8b-4ed1-8192-abdc4c7cecd5"
      },
      "execution_count": null,
      "outputs": [
        {
          "output_type": "display_data",
          "data": {
            "text/plain": [
              "<Figure size 800x500 with 1 Axes>"
            ],
            "image/png": "[encoded data removed]"
          },
          "metadata": {}
        }
      ]
    },
    {
      "cell_type": "markdown",
      "source": [
        "Q11. Perform matrix multiplication using NumPy."
      ],
      "metadata": {
        "id": "A2Pxg8oQHz0_"
      }
    },
    {
      "cell_type": "code",
      "source": [
        "import numpy as np\n",
        "\n",
        "A = np.array([[1, 2, 3],\n",
        "              [4, 5, 6]])\n",
        "\n",
        "B = np.array([[7, 8],\n",
        "              [9, 10],\n",
        "              [11, 12]])\n",
        "\n",
        "C = np.dot(A, B)\n",
        "\n",
        "print(\"Matrix A:\\n\", A)\n",
        "print(\"Matrix B:\\n\", B)\n",
        "print(\"Matrix Multiplication Result (A x B):\\n\", C)\n"
      ],
      "metadata": {
        "colab": {
          "base_uri": "https://localhost:8080/"
        },
        "id": "RjsFSnlOH3J6",
        "outputId": "b774d7f1-9304-4dbb-e98c-0e6bcbf10dec"
      },
      "execution_count": null,
      "outputs": [
        {
          "output_type": "stream",
          "name": "stdout",
          "text": [
            "Matrix A:\n",
            " [[1 2 3]\n",
            " [4 5 6]]\n",
            "Matrix B:\n",
            " [[ 7  8]\n",
            " [ 9 10]\n",
            " [11 12]]\n",
            "Matrix Multiplication Result (A x B):\n",
            " [[ 58  64]\n",
            " [139 154]]\n"
          ]
        }
      ]
    },
    {
      "cell_type": "markdown",
      "source": [
        "Q12. Use Pandas to load a CSV file and display its first 5 rows."
      ],
      "metadata": {
        "id": "OGXWEsuzIPqZ"
      }
    },
    {
      "cell_type": "code",
      "source": [
        "import pandas as pd\n",
        "\n",
        "df = pd.read_csv(\"sample.csv\")\n",
        "\n",
        "print(df.head())\n"
      ],
      "metadata": {
        "colab": {
          "base_uri": "https://localhost:8080/",
          "height": 356
        },
        "id": "SHdKCqLNIU-6",
        "outputId": "4ec3d331-1caa-4650-e30b-c9a6625e031c"
      },
      "execution_count": null,
      "outputs": [
        {
          "output_type": "error",
          "ename": "FileNotFoundError",
          "evalue": "[Errno 2] No such file or directory: 'sample.csv'",
          "traceback": [
            "\u001b[0;31m---------------------------------------------------------------------------\u001b[0m",
            "\u001b[0;31mFileNotFoundError\u001b[0m                         Traceback (most recent call last)",
            "\u001b[0;32m<ipython-input-12-629659da988c>\u001b[0m in \u001b[0;36m<cell line: 0>\u001b[0;34m()\u001b[0m\n\u001b[1;32m      1\u001b[0m \u001b[0;32mimport\u001b[0m \u001b[0mpandas\u001b[0m \u001b[0;32mas\u001b[0m \u001b[0mpd\u001b[0m\u001b[0;34m\u001b[0m\u001b[0;34m\u001b[0m\u001b[0m\n\u001b[1;32m      2\u001b[0m \u001b[0;34m\u001b[0m\u001b[0m\n\u001b[0;32m----> 3\u001b[0;31m \u001b[0mdf\u001b[0m \u001b[0;34m=\u001b[0m \u001b[0mpd\u001b[0m\u001b[0;34m.\u001b[0m\u001b[0mread_csv\u001b[0m\u001b[0;34m(\u001b[0m\u001b[0;34m\"sample.csv\"\u001b[0m\u001b[0;34m)\u001b[0m\u001b[0;34m\u001b[0m\u001b[0;34m\u001b[0m\u001b[0m\n\u001b[0m\u001b[1;32m      4\u001b[0m \u001b[0;34m\u001b[0m\u001b[0m\n\u001b[1;32m      5\u001b[0m \u001b[0mprint\u001b[0m\u001b[0;34m(\u001b[0m\u001b[0mdf\u001b[0m\u001b[0;34m.\u001b[0m\u001b[0mhead\u001b[0m\u001b[0;34m(\u001b[0m\u001b[0;34m)\u001b[0m\u001b[0;34m)\u001b[0m\u001b[0;34m\u001b[0m\u001b[0;34m\u001b[0m\u001b[0m\n",
            "\u001b[0;32m/usr/local/lib/python3.11/dist-packages/pandas/io/parsers/readers.py\u001b[0m in \u001b[0;36mread_csv\u001b[0;34m(filepath_or_buffer, sep, delimiter, header, names, index_col, usecols, dtype, engine, converters, true_values, false_values, skipinitialspace, skiprows, skipfooter, nrows, na_values, keep_default_na, na_filter, verbose, skip_blank_lines, parse_dates, infer_datetime_format, keep_date_col, date_parser, date_format, dayfirst, cache_dates, iterator, chunksize, compression, thousands, decimal, lineterminator, quotechar, quoting, doublequote, escapechar, comment, encoding, encoding_errors, dialect, on_bad_lines, delim_whitespace, low_memory, memory_map, float_precision, storage_options, dtype_backend)\u001b[0m\n\u001b[1;32m   1024\u001b[0m     \u001b[0mkwds\u001b[0m\u001b[0;34m.\u001b[0m\u001b[0mupdate\u001b[0m\u001b[0;34m(\u001b[0m\u001b[0mkwds_defaults\u001b[0m\u001b[0;34m)\u001b[0m\u001b[0;34m\u001b[0m\u001b[0;34m\u001b[0m\u001b[0m\n\u001b[1;32m   1025\u001b[0m \u001b[0;34m\u001b[0m\u001b[0m\n\u001b[0;32m-> 1026\u001b[0;31m     \u001b[0;32mreturn\u001b[0m \u001b[0m_read\u001b[0m\u001b[0;34m(\u001b[0m\u001b[0mfilepath_or_buffer\u001b[0m\u001b[0;34m,\u001b[0m \u001b[0mkwds\u001b[0m\u001b[0;34m)\u001b[0m\u001b[0;34m\u001b[0m\u001b[0;34m\u001b[0m\u001b[0m\n\u001b[0m\u001b[1;32m   1027\u001b[0m \u001b[0;34m\u001b[0m\u001b[0m\n\u001b[1;32m   1028\u001b[0m \u001b[0;34m\u001b[0m\u001b[0m\n",
            "\u001b[0;32m/usr/local/lib/python3.11/dist-packages/pandas/io/parsers/readers.py\u001b[0m in \u001b[0;36m_read\u001b[0;34m(filepath_or_buffer, kwds)\u001b[0m\n\u001b[1;32m    618\u001b[0m \u001b[0;34m\u001b[0m\u001b[0m\n\u001b[1;32m    619\u001b[0m     \u001b[0;31m# Create the parser.\u001b[0m\u001b[0;34m\u001b[0m\u001b[0;34m\u001b[0m\u001b[0m\n\u001b[0;32m--> 620\u001b[0;31m     \u001b[0mparser\u001b[0m \u001b[0;34m=\u001b[0m \u001b[0mTextFileReader\u001b[0m\u001b[0;34m(\u001b[0m\u001b[0mfilepath_or_buffer\u001b[0m\u001b[0;34m,\u001b[0m \u001b[0;34m**\u001b[0m\u001b[0mkwds\u001b[0m\u001b[0;34m)\u001b[0m\u001b[0;34m\u001b[0m\u001b[0;34m\u001b[0m\u001b[0m\n\u001b[0m\u001b[1;32m    621\u001b[0m \u001b[0;34m\u001b[0m\u001b[0m\n\u001b[1;32m    622\u001b[0m     \u001b[0;32mif\u001b[0m \u001b[0mchunksize\u001b[0m \u001b[0;32mor\u001b[0m \u001b[0miterator\u001b[0m\u001b[0;34m:\u001b[0m\u001b[0;34m\u001b[0m\u001b[0;34m\u001b[0m\u001b[0m\n",
            "\u001b[0;32m/usr/local/lib/python3.11/dist-packages/pandas/io/parsers/readers.py\u001b[0m in \u001b[0;36m__init__\u001b[0;34m(self, f, engine, **kwds)\u001b[0m\n\u001b[1;32m   1618\u001b[0m \u001b[0;34m\u001b[0m\u001b[0m\n\u001b[1;32m   1619\u001b[0m         \u001b[0mself\u001b[0m\u001b[0;34m.\u001b[0m\u001b[0mhandles\u001b[0m\u001b[0;34m:\u001b[0m \u001b[0mIOHandles\u001b[0m \u001b[0;34m|\u001b[0m \u001b[0;32mNone\u001b[0m \u001b[0;34m=\u001b[0m \u001b[0;32mNone\u001b[0m\u001b[0;34m\u001b[0m\u001b[0;34m\u001b[0m\u001b[0m\n\u001b[0;32m-> 1620\u001b[0;31m         \u001b[0mself\u001b[0m\u001b[0;34m.\u001b[0m\u001b[0m_engine\u001b[0m \u001b[0;34m=\u001b[0m \u001b[0mself\u001b[0m\u001b[0;34m.\u001b[0m\u001b[0m_make_engine\u001b[0m\u001b[0;34m(\u001b[0m\u001b[0mf\u001b[0m\u001b[0;34m,\u001b[0m \u001b[0mself\u001b[0m\u001b[0;34m.\u001b[0m\u001b[0mengine\u001b[0m\u001b[0;34m)\u001b[0m\u001b[0;34m\u001b[0m\u001b[0;34m\u001b[0m\u001b[0m\n\u001b[0m\u001b[1;32m   1621\u001b[0m \u001b[0;34m\u001b[0m\u001b[0m\n\u001b[1;32m   1622\u001b[0m     \u001b[0;32mdef\u001b[0m \u001b[0mclose\u001b[0m\u001b[0;34m(\u001b[0m\u001b[0mself\u001b[0m\u001b[0;34m)\u001b[0m \u001b[0;34m->\u001b[0m \u001b[0;32mNone\u001b[0m\u001b[0;34m:\u001b[0m\u001b[0;34m\u001b[0m\u001b[0;34m\u001b[0m\u001b[0m\n",
            "\u001b[0;32m/usr/local/lib/python3.11/dist-packages/pandas/io/parsers/readers.py\u001b[0m in \u001b[0;36m_make_engine\u001b[0;34m(self, f, engine)\u001b[0m\n\u001b[1;32m   1878\u001b[0m                 \u001b[0;32mif\u001b[0m \u001b[0;34m\"b\"\u001b[0m \u001b[0;32mnot\u001b[0m \u001b[0;32min\u001b[0m \u001b[0mmode\u001b[0m\u001b[0;34m:\u001b[0m\u001b[0;34m\u001b[0m\u001b[0;34m\u001b[0m\u001b[0m\n\u001b[1;32m   1879\u001b[0m                     \u001b[0mmode\u001b[0m \u001b[0;34m+=\u001b[0m \u001b[0;34m\"b\"\u001b[0m\u001b[0;34m\u001b[0m\u001b[0;34m\u001b[0m\u001b[0m\n\u001b[0;32m-> 1880\u001b[0;31m             self.handles = get_handle(\n\u001b[0m\u001b[1;32m   1881\u001b[0m                 \u001b[0mf\u001b[0m\u001b[0;34m,\u001b[0m\u001b[0;34m\u001b[0m\u001b[0;34m\u001b[0m\u001b[0m\n\u001b[1;32m   1882\u001b[0m                 \u001b[0mmode\u001b[0m\u001b[0;34m,\u001b[0m\u001b[0;34m\u001b[0m\u001b[0;34m\u001b[0m\u001b[0m\n",
            "\u001b[0;32m/usr/local/lib/python3.11/dist-packages/pandas/io/common.py\u001b[0m in \u001b[0;36mget_handle\u001b[0;34m(path_or_buf, mode, encoding, compression, memory_map, is_text, errors, storage_options)\u001b[0m\n\u001b[1;32m    871\u001b[0m         \u001b[0;32mif\u001b[0m \u001b[0mioargs\u001b[0m\u001b[0;34m.\u001b[0m\u001b[0mencoding\u001b[0m \u001b[0;32mand\u001b[0m \u001b[0;34m\"b\"\u001b[0m \u001b[0;32mnot\u001b[0m \u001b[0;32min\u001b[0m \u001b[0mioargs\u001b[0m\u001b[0;34m.\u001b[0m\u001b[0mmode\u001b[0m\u001b[0;34m:\u001b[0m\u001b[0;34m\u001b[0m\u001b[0;34m\u001b[0m\u001b[0m\n\u001b[1;32m    872\u001b[0m             \u001b[0;31m# Encoding\u001b[0m\u001b[0;34m\u001b[0m\u001b[0;34m\u001b[0m\u001b[0m\n\u001b[0;32m--> 873\u001b[0;31m             handle = open(\n\u001b[0m\u001b[1;32m    874\u001b[0m                 \u001b[0mhandle\u001b[0m\u001b[0;34m,\u001b[0m\u001b[0;34m\u001b[0m\u001b[0;34m\u001b[0m\u001b[0m\n\u001b[1;32m    875\u001b[0m                 \u001b[0mioargs\u001b[0m\u001b[0;34m.\u001b[0m\u001b[0mmode\u001b[0m\u001b[0;34m,\u001b[0m\u001b[0;34m\u001b[0m\u001b[0;34m\u001b[0m\u001b[0m\n",
            "\u001b[0;31mFileNotFoundError\u001b[0m: [Errno 2] No such file or directory: 'sample.csv'"
          ]
        }
      ]
    },
    {
      "cell_type": "markdown",
      "source": [
        "Q13.  Create a 3D scatter plot using Plotly."
      ],
      "metadata": {
        "id": "2T3FfhGOIyQs"
      }
    },
    {
      "cell_type": "code",
      "source": [
        "import plotly.express as px\n",
        "import pandas as pd\n",
        "import numpy as np\n",
        "\n",
        "np.random.seed(42)\n",
        "df = pd.DataFrame({\n",
        "    \"X\": np.random.rand(50) * 100,\n",
        "    \"Y\": np.random.rand(50) * 100,\n",
        "    \"Z\": np.random.rand(50) * 100,\n",
        "    \"Category\": np.random.choice([\"A\", \"B\", \"C\"], 50)\n",
        "})\n",
        "\n",
        "\n",
        "fig = px.scatter_3d(df, x=\"X\", y=\"Y\", z=\"Z\", color=\"Category\",\n",
        "                     title=\"3D Scatter Plot Example\",\n",
        "                     labels={\"X\": \"X Axis\", \"Y\": \"Y Axis\", \"Z\": \"Z Axis\"},\n",
        "                     opacity=0.8)\n",
        "\n",
        "fig.show()\n"
      ],
      "metadata": {
        "colab": {
          "base_uri": "https://localhost:8080/",
          "height": 542
        },
        "id": "yyI08L2TI3OM",
        "outputId": "b1efc6f5-c457-4e4e-b8d3-4baf56e7acc5"
      },
      "execution_count": null,
      "outputs": [
        {
          "output_type": "display_data",
          "data": {
            "text/html": [
              "<html>\n",
              "<head><meta charset=\"utf-8\" /></head>\n",
              "<body>\n",
              "    <div>            <script src=\"https://cdnjs.cloudflare.com/ajax/libs/mathjax/2.7.5/MathJax.js?config=TeX-AMS-MML_SVG\"></script><script type=\"text/javascript\">if (window.MathJax && window.MathJax.Hub && window.MathJax.Hub.Config) {window.MathJax.Hub.Config({SVG: {font: \"STIX-Web\"}});}</script>                <script type=\"text/javascript\">window.PlotlyConfig = {MathJaxConfig: 'local'};</script>\n",
              "        <script charset=\"utf-8\" src=\"https://cdn.plot.ly/plotly-2.35.2.min.js\"></script>                <div id=\"9f2bf377-6d6c-4c9b-8f2a-9f659121afb4\" class=\"plotly-graph-div\" style=\"height:525px; width:100%;\"></div>            <script type=\"text/javascript\">                                    window.PLOTLYENV=window.PLOTLYENV || {};                                    if (document.getElementById(\"9f2bf377-6d6c-4c9b-8f2a-9f659121afb4\")) {                    Plotly.newPlot(                        \"9f2bf377-6d6c-4c9b-8f2a-9f659121afb4\",                        [{\"hovertemplate\":\"Category=A\\u003cbr\\u003eX Axis=%{x}\\u003cbr\\u003eY Axis=%{y}\\u003cbr\\u003eZ Axis=%{z}\\u003cextra\\u003e\\u003c\\u002fextra\\u003e\",\"legendgroup\":\"A\",\"marker\":{\"color\":\"#636efa\",\"opacity\":0.8,\"symbol\":\"circle\"},\"mode\":\"markers\",\"name\":\"A\",\"scene\":\"scene\",\"showlegend\":true,\"x\":[37.454011884736246,95.07143064099162,15.599452033620265,83.24426408004217,18.34045098534338,13.949386065204184,29.214464853521815,78.51759613930136,96.56320330745594,80.83973481164611,68.42330265121569,12.203823484477883,49.51769101112702],\"y\":[96.95846277645586,77.51328233611146,92.18742350231169,82.87375091519293,54.26960831582485,19.87156815341724,0.5522117123602399,72.90071680409874,31.09823217156622,32.518332202674706,88.72127425763266,11.959424593830171,71.3244787222995],\"z\":[3.142918568673425,63.64104112637804,24.929222914887493,92.96976523425731,87.14605901877177,89.60912999234932,31.800347497186387,42.71077886262563,94.29097039125192,32.320293202075526,36.3629602379294,96.24472949421113,25.178229582536417],\"type\":\"scatter3d\"},{\"hovertemplate\":\"Category=C\\u003cbr\\u003eX Axis=%{x}\\u003cbr\\u003eY Axis=%{y}\\u003cbr\\u003eZ Axis=%{z}\\u003cextra\\u003e\\u003c\\u002fextra\\u003e\",\"legendgroup\":\"C\",\"marker\":{\"color\":\"#EF553B\",\"opacity\":0.8,\"symbol\":\"circle\"},\"mode\":\"markers\",\"name\":\"C\",\"scene\":\"scene\",\"showlegend\":true,\"x\":[73.1993941811405,60.11150117432088,70.80725777960456,2.0584494295802447,96.99098521619943,21.233911067827616,29.122914019804192,61.18528947223795,36.63618432936917,19.967378215835975,51.42344384136116,59.24145688620425,60.75448519014384,17.052412368729154,6.505159298527952,94.88855372533332,30.46137691733707,44.01524937396013,90.9320402078782,25.87799816000169,52.00680211778108,54.67102793432797],\"y\":[93.9498941564189,4.522728891053807,32.53303307632643,38.8677289689482,27.134903177389592,35.67533266935893,98.68869366005173,77.22447692966574,81.54614284548342,77.12703466859458,7.4044651734090365,35.84657285442726,86.31034258755935,62.329812682755794,33.08980248526492,6.355835028602364,72.96061783380641,47.22149251619493,56.127719756949624,77.0967179954561,42.75410183585496,2.541912674409519],\"z\":[31.435598107632668,22.879816549162246,7.697990982879299,28.9751452913768,16.122128725400444,80.8120379564417,53.93422419156507,80.74401551640625,11.005192452767677,81.80147659224932,86.07305832563435,0.6952130531190703,41.7411003148779,22.210781047073024,11.98653673336828,33.7615171403628,51.87906217433661,97.17820827209607,30.087830981676966,28.484049437746762,50.26790232288615,5.147875124998935],\"type\":\"scatter3d\"},{\"hovertemplate\":\"Category=B\\u003cbr\\u003eX Axis=%{x}\\u003cbr\\u003eY Axis=%{y}\\u003cbr\\u003eZ Axis=%{z}\\u003cextra\\u003e\\u003c\\u002fextra\\u003e\",\"legendgroup\":\"B\",\"marker\":{\"color\":\"#00cc96\",\"opacity\":0.8,\"symbol\":\"circle\"},\"mode\":\"markers\",\"name\":\"B\",\"scene\":\"scene\",\"showlegend\":true,\"x\":[59.86584841970366,15.601864044243651,5.8083612168199465,86.61761457749351,18.182496720710063,30.42422429595377,52.475643163223786,43.194501864211574,45.606998421703594,4.645041271999773,9.767211400638388,3.4388521115218396,66.2522284353982,31.171107608941096,18.485445552552704],\"y\":[89.48273504276489,59.78999788110851,8.84925020519195,19.59828624191452,28.093450968738075,14.092422497476264,80.21969807540397,7.455064367977082,70.68573438476172,11.586905952512971,63.75574713552131,76.07850486168974,49.379559636439076,52.27328293819941,10.789142699330444],\"z\":[50.85706911647028,90.7566473926093,41.038292303562976,75.55511385430486,63.34037565104234,80.36720768991145,18.657005888603585,89.25589984899777,22.793516254194166,51.07473025775657,70.30189588951778,49.72485058923854,3.6886947354532795,60.956433397989684,27.864646423661142],\"type\":\"scatter3d\"}],                        {\"template\":{\"data\":{\"histogram2dcontour\":[{\"type\":\"histogram2dcontour\",\"colorbar\":{\"outlinewidth\":0,\"ticks\":\"\"},\"colorscale\":[[0.0,\"#0d0887\"],[0.1111111111111111,\"#46039f\"],[0.2222222222222222,\"#7201a8\"],[0.3333333333333333,\"#9c179e\"],[0.4444444444444444,\"#bd3786\"],[0.5555555555555556,\"#d8576b\"],[0.6666666666666666,\"#ed7953\"],[0.7777777777777778,\"#fb9f3a\"],[0.8888888888888888,\"#fdca26\"],[1.0,\"#f0f921\"]]}],\"choropleth\":[{\"type\":\"choropleth\",\"colorbar\":{\"outlinewidth\":0,\"ticks\":\"\"}}],\"histogram2d\":[{\"type\":\"histogram2d\",\"colorbar\":{\"outlinewidth\":0,\"ticks\":\"\"},\"colorscale\":[[0.0,\"#0d0887\"],[0.1111111111111111,\"#46039f\"],[0.2222222222222222,\"#7201a8\"],[0.3333333333333333,\"#9c179e\"],[0.4444444444444444,\"#bd3786\"],[0.5555555555555556,\"#d8576b\"],[0.6666666666666666,\"#ed7953\"],[0.7777777777777778,\"#fb9f3a\"],[0.8888888888888888,\"#fdca26\"],[1.0,\"#f0f921\"]]}],\"heatmap\":[{\"type\":\"heatmap\",\"colorbar\":{\"outlinewidth\":0,\"ticks\":\"\"},\"colorscale\":[[0.0,\"#0d0887\"],[0.1111111111111111,\"#46039f\"],[0.2222222222222222,\"#7201a8\"],[0.3333333333333333,\"#9c179e\"],[0.4444444444444444,\"#bd3786\"],[0.5555555555555556,\"#d8576b\"],[0.6666666666666666,\"#ed7953\"],[0.7777777777777778,\"#fb9f3a\"],[0.8888888888888888,\"#fdca26\"],[1.0,\"#f0f921\"]]}],\"heatmapgl\":[{\"type\":\"heatmapgl\",\"colorbar\":{\"outlinewidth\":0,\"ticks\":\"\"},\"colorscale\":[[0.0,\"#0d0887\"],[0.1111111111111111,\"#46039f\"],[0.2222222222222222,\"#7201a8\"],[0.3333333333333333,\"#9c179e\"],[0.4444444444444444,\"#bd3786\"],[0.5555555555555556,\"#d8576b\"],[0.6666666666666666,\"#ed7953\"],[0.7777777777777778,\"#fb9f3a\"],[0.8888888888888888,\"#fdca26\"],[1.0,\"#f0f921\"]]}],\"contourcarpet\":[{\"type\":\"contourcarpet\",\"colorbar\":{\"outlinewidth\":0,\"ticks\":\"\"}}],\"contour\":[{\"type\":\"contour\",\"colorbar\":{\"outlinewidth\":0,\"ticks\":\"\"},\"colorscale\":[[0.0,\"#0d0887\"],[0.1111111111111111,\"#46039f\"],[0.2222222222222222,\"#7201a8\"],[0.3333333333333333,\"#9c179e\"],[0.4444444444444444,\"#bd3786\"],[0.5555555555555556,\"#d8576b\"],[0.6666666666666666,\"#ed7953\"],[0.7777777777777778,\"#fb9f3a\"],[0.8888888888888888,\"#fdca26\"],[1.0,\"#f0f921\"]]}],\"surface\":[{\"type\":\"surface\",\"colorbar\":{\"outlinewidth\":0,\"ticks\":\"\"},\"colorscale\":[[0.0,\"#0d0887\"],[0.1111111111111111,\"#46039f\"],[0.2222222222222222,\"#7201a8\"],[0.3333333333333333,\"#9c179e\"],[0.4444444444444444,\"#bd3786\"],[0.5555555555555556,\"#d8576b\"],[0.6666666666666666,\"#ed7953\"],[0.7777777777777778,\"#fb9f3a\"],[0.8888888888888888,\"#fdca26\"],[1.0,\"#f0f921\"]]}],\"mesh3d\":[{\"type\":\"mesh3d\",\"colorbar\":{\"outlinewidth\":0,\"ticks\":\"\"}}],\"scatter\":[{\"fillpattern\":{\"fillmode\":\"overlay\",\"size\":10,\"solidity\":0.2},\"type\":\"scatter\"}],\"parcoords\":[{\"type\":\"parcoords\",\"line\":{\"colorbar\":{\"outlinewidth\":0,\"ticks\":\"\"}}}],\"scatterpolargl\":[{\"type\":\"scatterpolargl\",\"marker\":{\"colorbar\":{\"outlinewidth\":0,\"ticks\":\"\"}}}],\"bar\":[{\"error_x\":{\"color\":\"#2a3f5f\"},\"error_y\":{\"color\":\"#2a3f5f\"},\"marker\":{\"line\":{\"color\":\"#E5ECF6\",\"width\":0.5},\"pattern\":{\"fillmode\":\"overlay\",\"size\":10,\"solidity\":0.2}},\"type\":\"bar\"}],\"scattergeo\":[{\"type\":\"scattergeo\",\"marker\":{\"colorbar\":{\"outlinewidth\":0,\"ticks\":\"\"}}}],\"scatterpolar\":[{\"type\":\"scatterpolar\",\"marker\":{\"colorbar\":{\"outlinewidth\":0,\"ticks\":\"\"}}}],\"histogram\":[{\"marker\":{\"pattern\":{\"fillmode\":\"overlay\",\"size\":10,\"solidity\":0.2}},\"type\":\"histogram\"}],\"scattergl\":[{\"type\":\"scattergl\",\"marker\":{\"colorbar\":{\"outlinewidth\":0,\"ticks\":\"\"}}}],\"scatter3d\":[{\"type\":\"scatter3d\",\"line\":{\"colorbar\":{\"outlinewidth\":0,\"ticks\":\"\"}},\"marker\":{\"colorbar\":{\"outlinewidth\":0,\"ticks\":\"\"}}}],\"scattermapbox\":[{\"type\":\"scattermapbox\",\"marker\":{\"colorbar\":{\"outlinewidth\":0,\"ticks\":\"\"}}}],\"scatterternary\":[{\"type\":\"scatterternary\",\"marker\":{\"colorbar\":{\"outlinewidth\":0,\"ticks\":\"\"}}}],\"scattercarpet\":[{\"type\":\"scattercarpet\",\"marker\":{\"colorbar\":{\"outlinewidth\":0,\"ticks\":\"\"}}}],\"carpet\":[{\"aaxis\":{\"endlinecolor\":\"#2a3f5f\",\"gridcolor\":\"white\",\"linecolor\":\"white\",\"minorgridcolor\":\"white\",\"startlinecolor\":\"#2a3f5f\"},\"baxis\":{\"endlinecolor\":\"#2a3f5f\",\"gridcolor\":\"white\",\"linecolor\":\"white\",\"minorgridcolor\":\"white\",\"startlinecolor\":\"#2a3f5f\"},\"type\":\"carpet\"}],\"table\":[{\"cells\":{\"fill\":{\"color\":\"#EBF0F8\"},\"line\":{\"color\":\"white\"}},\"header\":{\"fill\":{\"color\":\"#C8D4E3\"},\"line\":{\"color\":\"white\"}},\"type\":\"table\"}],\"barpolar\":[{\"marker\":{\"line\":{\"color\":\"#E5ECF6\",\"width\":0.5},\"pattern\":{\"fillmode\":\"overlay\",\"size\":10,\"solidity\":0.2}},\"type\":\"barpolar\"}],\"pie\":[{\"automargin\":true,\"type\":\"pie\"}]},\"layout\":{\"autotypenumbers\":\"strict\",\"colorway\":[\"#636efa\",\"#EF553B\",\"#00cc96\",\"#ab63fa\",\"#FFA15A\",\"#19d3f3\",\"#FF6692\",\"#B6E880\",\"#FF97FF\",\"#FECB52\"],\"font\":{\"color\":\"#2a3f5f\"},\"hovermode\":\"closest\",\"hoverlabel\":{\"align\":\"left\"},\"paper_bgcolor\":\"white\",\"plot_bgcolor\":\"#E5ECF6\",\"polar\":{\"bgcolor\":\"#E5ECF6\",\"angularaxis\":{\"gridcolor\":\"white\",\"linecolor\":\"white\",\"ticks\":\"\"},\"radialaxis\":{\"gridcolor\":\"white\",\"linecolor\":\"white\",\"ticks\":\"\"}},\"ternary\":{\"bgcolor\":\"#E5ECF6\",\"aaxis\":{\"gridcolor\":\"white\",\"linecolor\":\"white\",\"ticks\":\"\"},\"baxis\":{\"gridcolor\":\"white\",\"linecolor\":\"white\",\"ticks\":\"\"},\"caxis\":{\"gridcolor\":\"white\",\"linecolor\":\"white\",\"ticks\":\"\"}},\"coloraxis\":{\"colorbar\":{\"outlinewidth\":0,\"ticks\":\"\"}},\"colorscale\":{\"sequential\":[[0.0,\"#0d0887\"],[0.1111111111111111,\"#46039f\"],[0.2222222222222222,\"#7201a8\"],[0.3333333333333333,\"#9c179e\"],[0.4444444444444444,\"#bd3786\"],[0.5555555555555556,\"#d8576b\"],[0.6666666666666666,\"#ed7953\"],[0.7777777777777778,\"#fb9f3a\"],[0.8888888888888888,\"#fdca26\"],[1.0,\"#f0f921\"]],\"sequentialminus\":[[0.0,\"#0d0887\"],[0.1111111111111111,\"#46039f\"],[0.2222222222222222,\"#7201a8\"],[0.3333333333333333,\"#9c179e\"],[0.4444444444444444,\"#bd3786\"],[0.5555555555555556,\"#d8576b\"],[0.6666666666666666,\"#ed7953\"],[0.7777777777777778,\"#fb9f3a\"],[0.8888888888888888,\"#fdca26\"],[1.0,\"#f0f921\"]],\"diverging\":[[0,\"#8e0152\"],[0.1,\"#c51b7d\"],[0.2,\"#de77ae\"],[0.3,\"#f1b6da\"],[0.4,\"#fde0ef\"],[0.5,\"#f7f7f7\"],[0.6,\"#e6f5d0\"],[0.7,\"#b8e186\"],[0.8,\"#7fbc41\"],[0.9,\"#4d9221\"],[1,\"#276419\"]]},\"xaxis\":{\"gridcolor\":\"white\",\"linecolor\":\"white\",\"ticks\":\"\",\"title\":{\"standoff\":15},\"zerolinecolor\":\"white\",\"automargin\":true,\"zerolinewidth\":2},\"yaxis\":{\"gridcolor\":\"white\",\"linecolor\":\"white\",\"ticks\":\"\",\"title\":{\"standoff\":15},\"zerolinecolor\":\"white\",\"automargin\":true,\"zerolinewidth\":2},\"scene\":{\"xaxis\":{\"backgroundcolor\":\"#E5ECF6\",\"gridcolor\":\"white\",\"linecolor\":\"white\",\"showbackground\":true,\"ticks\":\"\",\"zerolinecolor\":\"white\",\"gridwidth\":2},\"yaxis\":{\"backgroundcolor\":\"#E5ECF6\",\"gridcolor\":\"white\",\"linecolor\":\"white\",\"showbackground\":true,\"ticks\":\"\",\"zerolinecolor\":\"white\",\"gridwidth\":2},\"zaxis\":{\"backgroundcolor\":\"#E5ECF6\",\"gridcolor\":\"white\",\"linecolor\":\"white\",\"showbackground\":true,\"ticks\":\"\",\"zerolinecolor\":\"white\",\"gridwidth\":2}},\"shapedefaults\":{\"line\":{\"color\":\"#2a3f5f\"}},\"annotationdefaults\":{\"arrowcolor\":\"#2a3f5f\",\"arrowhead\":0,\"arrowwidth\":1},\"geo\":{\"bgcolor\":\"white\",\"landcolor\":\"#E5ECF6\",\"subunitcolor\":\"white\",\"showland\":true,\"showlakes\":true,\"lakecolor\":\"white\"},\"title\":{\"x\":0.05},\"mapbox\":{\"style\":\"light\"}}},\"scene\":{\"domain\":{\"x\":[0.0,1.0],\"y\":[0.0,1.0]},\"xaxis\":{\"title\":{\"text\":\"X Axis\"}},\"yaxis\":{\"title\":{\"text\":\"Y Axis\"}},\"zaxis\":{\"title\":{\"text\":\"Z Axis\"}}},\"legend\":{\"title\":{\"text\":\"Category\"},\"tracegroupgap\":0},\"title\":{\"text\":\"3D Scatter Plot Example\"}},                        {\"responsive\": true}                    ).then(function(){\n",
              "                            \n",
              "var gd = document.getElementById('9f2bf377-6d6c-4c9b-8f2a-9f659121afb4');\n",
              "var x = new MutationObserver(function (mutations, observer) {{\n",
              "        var display = window.getComputedStyle(gd).display;\n",
              "        if (!display || display === 'none') {{\n",
              "            console.log([gd, 'removed!']);\n",
              "            Plotly.purge(gd);\n",
              "            observer.disconnect();\n",
              "        }}\n",
              "}});\n",
              "\n",
              "// Listen for the removal of the full notebook cells\n",
              "var notebookContainer = gd.closest('#notebook-container');\n",
              "if (notebookContainer) {{\n",
              "    x.observe(notebookContainer, {childList: true});\n",
              "}}\n",
              "\n",
              "// Listen for the clearing of the current output cell\n",
              "var outputEl = gd.closest('.output');\n",
              "if (outputEl) {{\n",
              "    x.observe(outputEl, {childList: true});\n",
              "}}\n",
              "\n",
              "                        })                };                            </script>        </div>\n",
              "</body>\n",
              "</html>"
            ]
          },
          "metadata": {}
        }
      ]
    }
  ]
}